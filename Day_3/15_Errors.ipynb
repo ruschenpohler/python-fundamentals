{
 "cells": [
  {
   "cell_type": "markdown",
   "metadata": {},
   "source": [
    "# Errors and Exceptions\n",
    "\n",
    "**Time**\n",
    "- teaching: 10 min\n",
    "- exercises: 10 min\n",
    "\n",
    "**Questions**:\n",
    "- \"How do I a read an error message?\"\n",
    "- \"What do the error messages mean?\"\n",
    "- \"How do I a fix an error?\"\n",
    "- \"What if I still can't figure it out?\"\n",
    "\n",
    "**Learning Objectives**:\n",
    "\n",
    "*   To be able to read a traceback, and determine the following relevant pieces of information:\n",
    "    * The file, function, and line number on which the error occurred\n",
    "    * The type of the error\n",
    "    * The error message\n",
    "*   To be able to describe the types of situations in which the following errors occur:\n",
    "    * `SyntaxError` and `IndentationError`\n",
    "    * `NameError`\n",
    "    * `IndexError` and `TypeError`\n",
    "    * `IOError`\n",
    "*   Debug code containing an error systematically.\n",
    "\n",
    "*****\n",
    "\n",
    "## Every programmer encounters errors\n",
    "* Both those who are just beginning, and those who have been programming for years.\n",
    "* Encountering errors and exceptions can be very frustrating at times\n",
    "* But understanding what the different types of errors are\n",
    "and when you are likely to encounter them can help a lot.\n",
    "* Once you know *why* you get certain types of errors,\n",
    "they become much easier to fix.\n",
    "\n",
    "## Errors in Python come in specific form, called a [traceback](https://github.com/dlab-berkeley/python-intensive/blob/master/Glossary.md#traceback).\n",
    "\n",
    "Let's examine one:"
   ]
  },
  {
   "cell_type": "code",
   "execution_count": 1,
   "metadata": {
    "attributes": {
     "classes": [
      " {.python"
     ],
     "id": ""
    }
   },
   "outputs": [
    {
     "ename": "IndexError",
     "evalue": "list index out of range",
     "output_type": "error",
     "traceback": [
      "\u001b[1;31m---------------------------------------------------------------------------\u001b[0m",
      "\u001b[1;31mIndexError\u001b[0m                                Traceback (most recent call last)",
      "\u001b[1;32m<ipython-input-1-8cf46271daba>\u001b[0m in \u001b[0;36m<module>\u001b[1;34m\u001b[0m\n\u001b[0;32m      1\u001b[0m \u001b[1;32mimport\u001b[0m \u001b[0merrors_01\u001b[0m\u001b[1;33m\u001b[0m\u001b[1;33m\u001b[0m\u001b[0m\n\u001b[1;32m----> 2\u001b[1;33m \u001b[0merrors_01\u001b[0m\u001b[1;33m.\u001b[0m\u001b[0mfavorite_ice_cream\u001b[0m\u001b[1;33m(\u001b[0m\u001b[1;33m)\u001b[0m\u001b[1;33m\u001b[0m\u001b[1;33m\u001b[0m\u001b[0m\n\u001b[0m",
      "\u001b[1;32m~\\Desktop\\GitHub\\python-fundamentals\\Day_3\\errors_01.py\u001b[0m in \u001b[0;36mfavorite_ice_cream\u001b[1;34m()\u001b[0m\n\u001b[0;32m      5\u001b[0m         \u001b[1;34m\"strawberry\"\u001b[0m\u001b[1;33m\u001b[0m\u001b[1;33m\u001b[0m\u001b[0m\n\u001b[0;32m      6\u001b[0m     ]\n\u001b[1;32m----> 7\u001b[1;33m     \u001b[0mprint\u001b[0m\u001b[1;33m(\u001b[0m\u001b[0mice_creams\u001b[0m\u001b[1;33m[\u001b[0m\u001b[1;36m3\u001b[0m\u001b[1;33m]\u001b[0m\u001b[1;33m)\u001b[0m\u001b[1;33m\u001b[0m\u001b[1;33m\u001b[0m\u001b[0m\n\u001b[0m\u001b[0;32m      8\u001b[0m \u001b[1;33m\u001b[0m\u001b[0m\n",
      "\u001b[1;31mIndexError\u001b[0m: list index out of range"
     ]
    }
   ],
   "source": [
    "import errors_01\n",
    "errors_01.favorite_ice_cream()"
   ]
  },
  {
   "cell_type": "markdown",
   "metadata": {},
   "source": [
    "- This particular [traceback](https://github.com/dlab-berkeley/python-intensive/blob/master/Glossary.md#traceback) has two levels.\n",
    "- You can determine the number of levels by looking for the number of arrows on the left hand side.\n",
    "- The last level is the actual place where the error occurred.\n",
    "- The other level(s) show what function the program executed to get to the next level down.\n",
    "\n",
    "So, in this case, the program:\n",
    "\n",
    "1. first performed a [function call](https://github.com/dlab-berkeley/python-intensive/blob/master/Glossary.md#function-call) to the function `favorite_ice_cream`.\n",
    "\n",
    "2. Inside this function, the program encountered an error on Line 7, when it tried to run the code `print ice_creams[3]`.\n",
    "\n",
    "## Long Tracebacks\n",
    "\n",
    "> Sometimes, you might see a traceback that is very long -- sometimes they might even be 20 levels deep!\n",
    "> This can make it seem like something horrible happened,\n",
    "> but really it just means that your program called many functions before it ran into the error.\n",
    "> Most of the time,\n",
    "> you can just pay attention to the bottom-most level,\n",
    "> which is the actual place where the error occurred.\n",
    "\n",
    "So what error did the program actually encounter?\n",
    "\n",
    "## Python  tells us the category or [type of error](https://github.com/dlab-berkeley/python-intensive/blob/master/Glossary.md#type-of-error) \n",
    "\n",
    "In this case, it is an `IndexError`. Python then prints a more detailed error message (in this case, it says \"list index out of range\").\n",
    "\n",
    "- If you encounter an error and don't know what it means, it is still important to read the traceback closely.\n",
    "- That way, if you fix the error, but encounter a new one, you can tell that the error changed.\n",
    "- sometimes just knowing *where* the error occurred is enough to fix it, even if you don't entirely understand the message."
   ]
  },
  {
   "cell_type": "markdown",
   "metadata": {},
   "source": [
    "# Syntax Errors"
   ]
  },
  {
   "cell_type": "markdown",
   "metadata": {},
   "source": [
    "## Python reports a [syntax error](https://github.com/dlab-berkeley/python-intensive/blob/master/Glossary.md#syntax-error) when there's a problem with the structure of the code in your program.\n",
    "\n",
    "- People can typically figure out what is meant by text with no punctuation, but people are much smarter than computers.\n",
    "- If Python doesn't know how to read the program, it will just give up and inform you with an error.\n",
    "\n",
    "For example:"
   ]
  },
  {
   "cell_type": "code",
   "execution_count": 4,
   "metadata": {
    "attributes": {
     "classes": [
      " {.python"
     ],
     "id": ""
    }
   },
   "outputs": [],
   "source": [
    "def some_function():\n",
    "    msg = \"hello, world!\"\n",
    "    print(msg)\n",
    "    return msg"
   ]
  },
  {
   "cell_type": "markdown",
   "metadata": {},
   "source": [
    "- Here, Python tells us that there is a `SyntaxError` on line 1,\n",
    "and even puts a little arrow in the place where there is an issue.\n",
    "- In this case the problem is that the function definition is missing a colon at the end.\n",
    "\n",
    "## Indentation is meaningful in Python\n",
    "- If we fix the problem with the colon,\n",
    "we see that there is *also* an `IndentationError`,\n",
    "which means that the lines in the function definition do not all have the same indentation:"
   ]
  },
  {
   "cell_type": "code",
   "execution_count": null,
   "metadata": {
    "attributes": {
     "classes": [
      " {.python"
     ],
     "id": ""
    }
   },
   "outputs": [],
   "source": [
    "def some_function():\n",
    "    msg = \"hello, world!\"\n",
    "    print(msg)\n",
    "     return msg"
   ]
  },
  {
   "cell_type": "markdown",
   "metadata": {},
   "source": [
    "- Both `SyntaxError` and `IndentationError` indicate a problem with the syntax of your program,\n",
    "but an `IndentationError` is more specific:\n",
    "it *always* means that there is a problem with how your code is indented.\n",
    "\n",
    "## Tabs and Spaces\n",
    "\n",
    "> A quick note on indentation errors:\n",
    "> they can sometimes be insidious,\n",
    "> especially if you are mixing spaces and tabs.\n",
    "> Because they are both [whitespace](https://github.com/dlab-berkeley/python-intensive/blob/master/Glossary.md#whitespace),\n",
    "> it is difficult to visually tell the difference.\n",
    "> The text editor [SublimeText](https://www.sublimetext.com/) makes it\n",
    "> really easy to deal with inconsistent indentation and tabs.\n",
    "> The Jupyter notebook actually gives us a bit of a hint,\n",
    "> but not all Python editors will do that.\n",
    "> In the following example,\n",
    "> the first two lines are using a tab for indentation,\n",
    "> while the third line uses four spaces:"
   ]
  },
  {
   "cell_type": "code",
   "execution_count": null,
   "metadata": {},
   "outputs": [],
   "source": []
  },
  {
   "cell_type": "code",
   "execution_count": 5,
   "metadata": {},
   "outputs": [
    {
     "ename": "TabError",
     "evalue": "inconsistent use of tabs and spaces in indentation (<ipython-input-5-802f5bbe07bc>, line 4)",
     "output_type": "error",
     "traceback": [
      "\u001b[1;36m  File \u001b[1;32m\"<ipython-input-5-802f5bbe07bc>\"\u001b[1;36m, line \u001b[1;32m4\u001b[0m\n\u001b[1;33m    return msg\u001b[0m\n\u001b[1;37m              ^\u001b[0m\n\u001b[1;31mTabError\u001b[0m\u001b[1;31m:\u001b[0m inconsistent use of tabs and spaces in indentation\n"
     ]
    }
   ],
   "source": [
    "def some_function():\n",
    "    msg = \"hello, world!\"\n",
    "    print(msg)\n",
    "\treturn msg"
   ]
  },
  {
   "cell_type": "markdown",
   "metadata": {},
   "source": [
    "# Runtime Errors\n",
    "\n",
    "Runtime errors occur when objects in Python are used in an incorrect way. Python can only determine that the error exists when the code is actually, unlike syntax errors that can be found before the code is even run.\n",
    "\n",
    "There are many types of runtime errors. We'll explore a few of them here."
   ]
  },
  {
   "cell_type": "markdown",
   "metadata": {},
   "source": [
    "## A `NameError`, and what occurs when you try to use a variable that does not exist\n",
    "\n",
    "For example:"
   ]
  },
  {
   "cell_type": "code",
   "execution_count": null,
   "metadata": {
    "attributes": {
     "classes": [
      " {.python"
     ],
     "id": ""
    }
   },
   "outputs": [],
   "source": [
    "print(a)"
   ]
  },
  {
   "cell_type": "markdown",
   "metadata": {},
   "source": [
    "Why did you get this error?\n",
    "\n",
    "- You might have meant to use a [string](https://github.com/dlab-berkeley/python-intensive/blob/master/Glossary.md#string), but forgot to put quotes around it:"
   ]
  },
  {
   "cell_type": "code",
   "execution_count": null,
   "metadata": {
    "attributes": {
     "classes": [
      " {.python"
     ],
     "id": ""
    }
   },
   "outputs": [],
   "source": [
    "print(hello)"
   ]
  },
  {
   "cell_type": "markdown",
   "metadata": {},
   "source": [
    "- Or you just forgot to create the variable before using it.\n",
    "- In the following example,\n",
    "`count` should have been defined (e.g., with `count = 0`) before the for loop:"
   ]
  },
  {
   "cell_type": "code",
   "execution_count": null,
   "metadata": {
    "attributes": {
     "classes": [
      " {.python"
     ],
     "id": ""
    }
   },
   "outputs": [],
   "source": [
    "for number in range(10):\n",
    "    count = count + number\n",
    "print(\"The count is: \" + str(count))"
   ]
  },
  {
   "cell_type": "markdown",
   "metadata": {},
   "source": [
    "- or you might have made a typo when you were writing your code."
   ]
  },
  {
   "cell_type": "code",
   "execution_count": null,
   "metadata": {
    "attributes": {
     "classes": [
      " {.python"
     ],
     "id": ""
    }
   },
   "outputs": [],
   "source": [
    "Count = 0\n",
    "for number in range(10):\n",
    "    count = count + number\n",
    "print(\"The count is: \" + str(count))"
   ]
  },
  {
   "cell_type": "markdown",
   "metadata": {},
   "source": [
    "## Type and Index Errors\n",
    "\n",
    "- Next up are errors having to do with containers (like lists and dictionaries) and the items within them. \n",
    "- If you try to access an item in a list or a dictionary that does not exist,\n",
    "then you will get an error."
   ]
  },
  {
   "cell_type": "code",
   "execution_count": 6,
   "metadata": {
    "attributes": {
     "classes": [
      " {.python"
     ],
     "id": ""
    }
   },
   "outputs": [
    {
     "name": "stdout",
     "output_type": "stream",
     "text": [
      "Letter #1 is a\n",
      "Letter #2 is b\n",
      "Letter #3 is c\n"
     ]
    },
    {
     "ename": "IndexError",
     "evalue": "list index out of range",
     "output_type": "error",
     "traceback": [
      "\u001b[1;31m---------------------------------------------------------------------------\u001b[0m",
      "\u001b[1;31mIndexError\u001b[0m                                Traceback (most recent call last)",
      "\u001b[1;32m<ipython-input-6-87e4256bd03c>\u001b[0m in \u001b[0;36m<module>\u001b[1;34m\u001b[0m\n\u001b[0;32m      3\u001b[0m \u001b[0mprint\u001b[0m\u001b[1;33m(\u001b[0m\u001b[1;34m\"Letter #2 is \"\u001b[0m \u001b[1;33m+\u001b[0m \u001b[0mletters\u001b[0m\u001b[1;33m[\u001b[0m\u001b[1;36m1\u001b[0m\u001b[1;33m]\u001b[0m\u001b[1;33m)\u001b[0m\u001b[1;33m\u001b[0m\u001b[1;33m\u001b[0m\u001b[0m\n\u001b[0;32m      4\u001b[0m \u001b[0mprint\u001b[0m\u001b[1;33m(\u001b[0m\u001b[1;34m\"Letter #3 is \"\u001b[0m \u001b[1;33m+\u001b[0m \u001b[0mletters\u001b[0m\u001b[1;33m[\u001b[0m\u001b[1;36m2\u001b[0m\u001b[1;33m]\u001b[0m\u001b[1;33m)\u001b[0m\u001b[1;33m\u001b[0m\u001b[1;33m\u001b[0m\u001b[0m\n\u001b[1;32m----> 5\u001b[1;33m \u001b[0mprint\u001b[0m\u001b[1;33m(\u001b[0m\u001b[1;34m\"Letter #4 is \"\u001b[0m \u001b[1;33m+\u001b[0m \u001b[0mletters\u001b[0m\u001b[1;33m[\u001b[0m\u001b[1;36m3\u001b[0m\u001b[1;33m]\u001b[0m\u001b[1;33m)\u001b[0m\u001b[1;33m\u001b[0m\u001b[1;33m\u001b[0m\u001b[0m\n\u001b[0m",
      "\u001b[1;31mIndexError\u001b[0m: list index out of range"
     ]
    }
   ],
   "source": [
    "letters = ['a', 'b', 'c']\n",
    "print(\"Letter #1 is \" + letters[0])\n",
    "print(\"Letter #2 is \" + letters[1])\n",
    "print(\"Letter #3 is \" + letters[2])\n",
    "print(\"Letter #4 is \" + letters[3])"
   ]
  },
  {
   "cell_type": "markdown",
   "metadata": {},
   "source": [
    "Here, Python is telling us that there is an `IndexError` in our code, meaning we tried to access a list index that did not exist.\n",
    "\n",
    "A similar error occurs when we confuse types; that is, when we try to use a [method](https://github.com/dlab-berkeley/python-intensive/blob/master/Glossary.md#method) or syntax relevant to one type on another type that doesn't like it."
   ]
  },
  {
   "cell_type": "code",
   "execution_count": 8,
   "metadata": {},
   "outputs": [
    {
     "ename": "NameError",
     "evalue": "name 'name' is not defined",
     "output_type": "error",
     "traceback": [
      "\u001b[1;31m---------------------------------------------------------------------------\u001b[0m",
      "\u001b[1;31mNameError\u001b[0m                                 Traceback (most recent call last)",
      "\u001b[1;32m<ipython-input-8-3531fb491730>\u001b[0m in \u001b[0;36m<module>\u001b[1;34m\u001b[0m\n\u001b[0;32m      1\u001b[0m \u001b[0ma_list\u001b[0m \u001b[1;33m=\u001b[0m \u001b[1;33m[\u001b[0m\u001b[1;36m99\u001b[0m\u001b[1;33m,\u001b[0m \u001b[1;36m24\u001b[0m\u001b[1;33m,\u001b[0m \u001b[1;34m'a'\u001b[0m\u001b[1;33m,\u001b[0m \u001b[1;34m'name'\u001b[0m\u001b[1;33m,\u001b[0m \u001b[1;34m'or'\u001b[0m\u001b[1;33m,\u001b[0m \u001b[1;34m'two'\u001b[0m\u001b[1;33m]\u001b[0m\u001b[1;33m\u001b[0m\u001b[1;33m\u001b[0m\u001b[0m\n\u001b[0;32m      2\u001b[0m \u001b[1;33m\u001b[0m\u001b[0m\n\u001b[1;32m----> 3\u001b[1;33m \u001b[0ma_list\u001b[0m\u001b[1;33m[\u001b[0m\u001b[0mname\u001b[0m\u001b[1;33m]\u001b[0m\u001b[1;33m\u001b[0m\u001b[1;33m\u001b[0m\u001b[0m\n\u001b[0m",
      "\u001b[1;31mNameError\u001b[0m: name 'name' is not defined"
     ]
    }
   ],
   "source": [
    "a_list = [99, 24, 'a', 'name', 'or', 'two']\n",
    "\n",
    "a_list['name']"
   ]
  },
  {
   "cell_type": "code",
   "execution_count": 9,
   "metadata": {},
   "outputs": [
    {
     "ename": "TypeError",
     "evalue": "unhashable type: 'slice'",
     "output_type": "error",
     "traceback": [
      "\u001b[1;31m---------------------------------------------------------------------------\u001b[0m",
      "\u001b[1;31mTypeError\u001b[0m                                 Traceback (most recent call last)",
      "\u001b[1;32m<ipython-input-9-a9f6ea07f534>\u001b[0m in \u001b[0;36m<module>\u001b[1;34m\u001b[0m\n\u001b[0;32m      5\u001b[0m          5: '5'}\n\u001b[0;32m      6\u001b[0m \u001b[1;33m\u001b[0m\u001b[0m\n\u001b[1;32m----> 7\u001b[1;33m \u001b[0ma_dict\u001b[0m\u001b[1;33m[\u001b[0m\u001b[1;36m1\u001b[0m\u001b[1;33m:\u001b[0m\u001b[1;36m4\u001b[0m\u001b[1;33m]\u001b[0m\u001b[1;33m\u001b[0m\u001b[1;33m\u001b[0m\u001b[0m\n\u001b[0m",
      "\u001b[1;31mTypeError\u001b[0m: unhashable type: 'slice'"
     ]
    }
   ],
   "source": [
    "a_dict = {1: '1',\n",
    "         2: '2',\n",
    "         3: '3',\n",
    "         4: '4',\n",
    "         5: '5'}\n",
    "\n",
    "a_dict[1:4]"
   ]
  },
  {
   "cell_type": "markdown",
   "metadata": {},
   "source": [
    "## File Errors\n",
    "\n",
    "- The last type of error we'll cover today are those associated with reading and writing files. There are two types of I/O (or input/output) errors we'll look at : `FileNoteFoundError` and `UnsupportedOperation`.\n",
    "\n",
    "- If you try to read a file that does not exist, you will recieve an `FileNoteFoundError` telling you so."
   ]
  },
  {
   "cell_type": "code",
   "execution_count": 10,
   "metadata": {
    "attributes": {
     "classes": [
      " {.python"
     ],
     "id": ""
    }
   },
   "outputs": [
    {
     "ename": "FileNotFoundError",
     "evalue": "[Errno 2] No such file or directory: 'nonexistentfile.txt'",
     "output_type": "error",
     "traceback": [
      "\u001b[1;31m---------------------------------------------------------------------------\u001b[0m",
      "\u001b[1;31mFileNotFoundError\u001b[0m                         Traceback (most recent call last)",
      "\u001b[1;32m<ipython-input-10-84dc2ff812aa>\u001b[0m in \u001b[0;36m<module>\u001b[1;34m\u001b[0m\n\u001b[1;32m----> 1\u001b[1;33m \u001b[0mfile_handle\u001b[0m \u001b[1;33m=\u001b[0m \u001b[0mopen\u001b[0m\u001b[1;33m(\u001b[0m\u001b[1;34m'nonexistentfile.txt'\u001b[0m\u001b[1;33m,\u001b[0m \u001b[1;34m'r'\u001b[0m\u001b[1;33m)\u001b[0m\u001b[1;33m\u001b[0m\u001b[1;33m\u001b[0m\u001b[0m\n\u001b[0m",
      "\u001b[1;31mFileNotFoundError\u001b[0m: [Errno 2] No such file or directory: 'nonexistentfile.txt'"
     ]
    }
   ],
   "source": [
    "file_handle = open('nonexistentfile.txt', 'r')"
   ]
  },
  {
   "cell_type": "markdown",
   "metadata": {},
   "source": [
    "- One reason for receiving this error is that you specified an incorrect path to the file.\n",
    "- Or you could be using the \"read\" flag instead of the \"write\" flag, which will result in an `UnsupportedOperation` error."
   ]
  },
  {
   "cell_type": "code",
   "execution_count": 11,
   "metadata": {
    "attributes": {
     "classes": [
      " {.python"
     ],
     "id": ""
    }
   },
   "outputs": [
    {
     "ename": "UnsupportedOperation",
     "evalue": "not readable",
     "output_type": "error",
     "traceback": [
      "\u001b[1;31m---------------------------------------------------------------------------\u001b[0m",
      "\u001b[1;31mUnsupportedOperation\u001b[0m                      Traceback (most recent call last)",
      "\u001b[1;32m<ipython-input-11-063a9999adc0>\u001b[0m in \u001b[0;36m<module>\u001b[1;34m\u001b[0m\n\u001b[0;32m      1\u001b[0m \u001b[0mfile_handle\u001b[0m \u001b[1;33m=\u001b[0m \u001b[0mopen\u001b[0m\u001b[1;33m(\u001b[0m\u001b[1;34m'myfile.txt'\u001b[0m\u001b[1;33m,\u001b[0m \u001b[1;34m'w'\u001b[0m\u001b[1;33m)\u001b[0m\u001b[1;33m\u001b[0m\u001b[1;33m\u001b[0m\u001b[0m\n\u001b[1;32m----> 2\u001b[1;33m \u001b[0mfile_handle\u001b[0m\u001b[1;33m.\u001b[0m\u001b[0mread\u001b[0m\u001b[1;33m(\u001b[0m\u001b[1;33m)\u001b[0m\u001b[1;33m\u001b[0m\u001b[1;33m\u001b[0m\u001b[0m\n\u001b[0m",
      "\u001b[1;31mUnsupportedOperation\u001b[0m: not readable"
     ]
    }
   ],
   "source": [
    "file_handle = open('myfile.txt', 'w')\n",
    "file_handle.read()"
   ]
  },
  {
   "cell_type": "markdown",
   "metadata": {},
   "source": [
    "## Syntax vs. Runtime Errors\n",
    "\n",
    "Let's look at some concrete examples of the differences between runtime and syntax errors.\n",
    "\n",
    "With a runtime error, the code itself isn't the problem, the error involves the values of the objects. \n",
    "\n",
    "The below code works just fine."
   ]
  },
  {
   "cell_type": "code",
   "execution_count": 12,
   "metadata": {},
   "outputs": [
    {
     "name": "stdout",
     "output_type": "stream",
     "text": [
      "2.0\n"
     ]
    }
   ],
   "source": [
    "x = 5\n",
    "print( 10/x )"
   ]
  },
  {
   "cell_type": "markdown",
   "metadata": {},
   "source": [
    "But if we just change the value that is assigned to `x` to be `0`, then we are trying to divide by `0`, which gives a runtime error."
   ]
  },
  {
   "cell_type": "code",
   "execution_count": 38,
   "metadata": {},
   "outputs": [
    {
     "name": "stdout",
     "output_type": "stream",
     "text": [
      "-5.0\n",
      "-10.0\n",
      "\n",
      "10.0\n",
      "5.0\n"
     ]
    }
   ],
   "source": [
    "#x = 0\n",
    "#print( 10/x )\n",
    "\n",
    "\n",
    "x = [-2, -1, 0, 1, 2]\n",
    "for n in x:\n",
    "    try:\n",
    "        print(10/n)\n",
    "    except ZeroDivisionError:\n",
    "        print(\"\")"
   ]
  },
  {
   "cell_type": "markdown",
   "metadata": {},
   "source": [
    "But the code below would never run, regardless of the value of `x`, because there is an `IndentationError`, which is a type of syntax error."
   ]
  },
  {
   "cell_type": "code",
   "execution_count": null,
   "metadata": {},
   "outputs": [],
   "source": [
    "x = 5\n",
    " print( 10/x )"
   ]
  },
  {
   "cell_type": "code",
   "execution_count": null,
   "metadata": {},
   "outputs": [],
   "source": [
    "x = 0\n",
    " print( 10/x )"
   ]
  },
  {
   "cell_type": "markdown",
   "metadata": {},
   "source": [
    "## Challenges 1: Reading Error Messages\n",
    "\n",
    "Read the traceback below, and identify the following pieces of information about it:\n",
    "\n",
    "1.  How many levels does the traceback have?\n",
    "2.  What is the file name where the error occurred?\n",
    "3.  What is the function name where the error occurred?\n",
    "4.  On which line number in this function did the error occurr?\n",
    "5.  What is the type of error?\n",
    "6.  What is the error message?"
   ]
  },
  {
   "cell_type": "code",
   "execution_count": 16,
   "metadata": {},
   "outputs": [
    {
     "ename": "KeyError",
     "evalue": "'Friday'",
     "output_type": "error",
     "traceback": [
      "\u001b[1;31m---------------------------------------------------------------------------\u001b[0m",
      "\u001b[1;31mKeyError\u001b[0m                                  Traceback (most recent call last)",
      "\u001b[1;32m<ipython-input-16-2b0d766dbc9a>\u001b[0m in \u001b[0;36m<module>\u001b[1;34m\u001b[0m\n\u001b[0;32m      1\u001b[0m \u001b[1;32mimport\u001b[0m \u001b[0merrors_02\u001b[0m\u001b[1;33m\u001b[0m\u001b[1;33m\u001b[0m\u001b[0m\n\u001b[1;32m----> 2\u001b[1;33m \u001b[0merrors_02\u001b[0m\u001b[1;33m.\u001b[0m\u001b[0mprint_friday_message\u001b[0m\u001b[1;33m(\u001b[0m\u001b[1;33m)\u001b[0m\u001b[1;33m\u001b[0m\u001b[1;33m\u001b[0m\u001b[0m\n\u001b[0m",
      "\u001b[1;32m~\\Desktop\\GitHub\\python-fundamentals\\Day_3\\errors_02.py\u001b[0m in \u001b[0;36mprint_friday_message\u001b[1;34m()\u001b[0m\n\u001b[0;32m     13\u001b[0m \u001b[1;33m\u001b[0m\u001b[0m\n\u001b[0;32m     14\u001b[0m \u001b[1;32mdef\u001b[0m \u001b[0mprint_friday_message\u001b[0m\u001b[1;33m(\u001b[0m\u001b[1;33m)\u001b[0m\u001b[1;33m:\u001b[0m\u001b[1;33m\u001b[0m\u001b[1;33m\u001b[0m\u001b[0m\n\u001b[1;32m---> 15\u001b[1;33m     \u001b[0mprint_message\u001b[0m\u001b[1;33m(\u001b[0m\u001b[1;34m\"Friday\"\u001b[0m\u001b[1;33m)\u001b[0m\u001b[1;33m\u001b[0m\u001b[1;33m\u001b[0m\u001b[0m\n\u001b[0m",
      "\u001b[1;32m~\\Desktop\\GitHub\\python-fundamentals\\Day_3\\errors_02.py\u001b[0m in \u001b[0;36mprint_message\u001b[1;34m(day)\u001b[0m\n\u001b[0;32m      9\u001b[0m         \u001b[1;34m\"sunday\"\u001b[0m\u001b[1;33m:\u001b[0m \u001b[1;34m\"Aw, the weekend is almost over.\"\u001b[0m\u001b[1;33m\u001b[0m\u001b[1;33m\u001b[0m\u001b[0m\n\u001b[0;32m     10\u001b[0m     }\n\u001b[1;32m---> 11\u001b[1;33m     \u001b[0mprint\u001b[0m\u001b[1;33m(\u001b[0m\u001b[0mmessages\u001b[0m\u001b[1;33m[\u001b[0m\u001b[0mday\u001b[0m\u001b[1;33m]\u001b[0m\u001b[1;33m)\u001b[0m\u001b[1;33m\u001b[0m\u001b[1;33m\u001b[0m\u001b[0m\n\u001b[0m\u001b[0;32m     12\u001b[0m \u001b[1;33m\u001b[0m\u001b[0m\n\u001b[0;32m     13\u001b[0m \u001b[1;33m\u001b[0m\u001b[0m\n",
      "\u001b[1;31mKeyError\u001b[0m: 'Friday'"
     ]
    }
   ],
   "source": [
    "import errors_02\n",
    "errors_02.print_friday_message()"
   ]
  },
  {
   "cell_type": "markdown",
   "metadata": {},
   "source": [
    "## Challenge 2. Identifying Syntax Errors\n",
    "\n",
    "1. Read the code below, and (without running it) try to identify what the errors are.\n",
    "2. Run the code, and read the error message. Is it a `SyntaxError` or an `IndentationError`?\n",
    "3. Fix the error.\n",
    "4. Repeat steps 2 and 3, until you have fixed all the errors."
   ]
  },
  {
   "cell_type": "code",
   "execution_count": 21,
   "metadata": {},
   "outputs": [],
   "source": [
    "def another_function():\n",
    "    print (\"Syntax errors are annoying.\")\n",
    "    print (\"But at least python tells us about them!\")\n",
    "    print (\"So they are usually not too hard to fix.\")"
   ]
  },
  {
   "cell_type": "markdown",
   "metadata": {},
   "source": [
    "## Challenge 3. Identifying Variable Name Errors\n",
    "\n",
    "1. Read the code below, and (without running it) try to identify what the errors are.\n",
    "2. Run the code, and read the error message. What type of `NameError` do you think this is? In other words, is it a [string](https://github.com/dlab-berkeley/python-intensive/blob/master/Glossary.md#string) with no quotes, a misspelled variable, or a variable that should have been defined but was not?\n",
    "3. Fix the error.\n",
    "4. Repeat steps 2 and 3, until you have fixed all the errors."
   ]
  },
  {
   "cell_type": "code",
   "execution_count": 26,
   "metadata": {},
   "outputs": [
    {
     "name": "stdout",
     "output_type": "stream",
     "text": [
      "abbabbabba\n"
     ]
    }
   ],
   "source": [
    "message = \"\"\n",
    "for number in range(10):\n",
    "    # use a if the number is a multiple of 3, otherwise use b\n",
    "    if (number % 3) == 0:\n",
    "        message = message + \"a\"\n",
    "    else:\n",
    "        message = message + \"b\"\n",
    "print(message)"
   ]
  },
  {
   "cell_type": "markdown",
   "metadata": {},
   "source": [
    "## Challenge 4. Identifying Item Errors\n",
    "\n",
    "1. Read the code below, and (without running it) try to identify what the errors are.\n",
    "2. Run the code, and read the error message. What type of error is it?\n",
    "3. Fix the error."
   ]
  },
  {
   "cell_type": "code",
   "execution_count": 27,
   "metadata": {},
   "outputs": [
    {
     "name": "stdout",
     "output_type": "stream",
     "text": [
      "My favorite season is Winter\n"
     ]
    }
   ],
   "source": [
    "seasons = ['Spring', 'Summer', 'Fall', 'Winter']\n",
    "print('My favorite season is', seasons[3])"
   ]
  },
  {
   "cell_type": "markdown",
   "metadata": {
    "collapsed": true
   },
   "source": [
    "## Debugging Strategies\n",
    "\n",
    "### Know what it's supposed to do\n",
    "\n",
    "The first step in debugging something is to *know what it's supposed to do*. \"My program doesn't work\" isn't good enough: in order to diagnose and fix problems, we need to be able to tell correct output from incorrect. If we can write a test case for the failing case --- i.e., if we can assert that with *these* inputs, the function should produce *that* result --- then we're ready to start debugging. If we can't, then we need to figure out how we're going to know when we've fixed things.\n",
    "\n",
    "### Start with a simplified case.\n",
    "\n",
    "If you're writing a multi-step loop or function, start with one case and get to work. Then ask what you need to do to generalize to many cases.\n",
    "\n",
    "### Divide and conquer\n",
    "\n",
    "We want to localize the failure to the smallest possible region of code. The smaller the gap between cause and effect, the easier the connection is to find. Many programmers therefore use a **divide and conquer** strategy to find bugs, i.e., if the output of a function is wrong, they check whether things are OK in the middle, then concentrate on either the first or second half, and so on.\n",
    "\n",
    "### Change One Thing at a Time, For a Reason\n",
    "\n",
    "Replacing random chunks of code is unlikely to do much good. (After all, if you got it wrong the first time, you'll probably get it wrong the second and third as well.) Good programmers therefore *change one thing at a time, for a reason*. They are either trying to gather more information (\"is the bug still there if we change the order of the loops?\") or test a fix (\"can we make the bug go away by sorting our data before processing it?\").\n",
    "\n",
    "Every time we make a change, however small, we should re-run our tests immediately, because the more things we change at once, the harder it is to know what's responsible for what.\n",
    "\n",
    "### Outside Resources\n",
    "\n",
    "If you've tried everything you can think of to logically fix the error and still don't understand what Python is trying to tell you, now the real searching begins. Go to Google and copy/paste the error, you're probably not the only one who has run into it!"
   ]
  },
  {
   "cell_type": "code",
   "execution_count": null,
   "metadata": {},
   "outputs": [],
   "source": []
  }
 ],
 "metadata": {
  "kernelspec": {
   "display_name": "Python 3",
   "language": "python",
   "name": "python3"
  },
  "language_info": {
   "codemirror_mode": {
    "name": "ipython",
    "version": 3
   },
   "file_extension": ".py",
   "mimetype": "text/x-python",
   "name": "python",
   "nbconvert_exporter": "python",
   "pygments_lexer": "ipython3",
   "version": "3.7.3"
  },
  "toc": {
   "base_numbering": 1,
   "nav_menu": {
    "height": "253px",
    "width": "504px"
   },
   "number_sections": false,
   "sideBar": true,
   "skip_h1_title": false,
   "title_cell": "Table of Contents",
   "title_sidebar": "Contents",
   "toc_cell": false,
   "toc_position": {},
   "toc_section_display": true,
   "toc_window_display": false
  },
  "varInspector": {
   "cols": {
    "lenName": 16,
    "lenType": 16,
    "lenVar": 40
   },
   "kernels_config": {
    "python": {
     "delete_cmd_postfix": "",
     "delete_cmd_prefix": "del ",
     "library": "var_list.py",
     "varRefreshCmd": "print(var_dic_list())"
    },
    "r": {
     "delete_cmd_postfix": ") ",
     "delete_cmd_prefix": "rm(",
     "library": "var_list.r",
     "varRefreshCmd": "cat(var_dic_list()) "
    }
   },
   "types_to_exclude": [
    "module",
    "function",
    "builtin_function_or_method",
    "instance",
    "_Feature"
   ],
   "window_display": false
  }
 },
 "nbformat": 4,
 "nbformat_minor": 1
}

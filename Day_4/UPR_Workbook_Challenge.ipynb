{
 "cells": [
  {
   "cell_type": "markdown",
   "metadata": {},
   "source": [
    "# Using Python for Information Retrieval\n",
    "\n",
    "In this unit, we'll use Python to turn a bunch of loose text documents into a real-life database. (Note: This database was created for a project by R. Terman and E. Voeten, and was processed using much the same process as you'll be learning here.)\n",
    "\n",
    "The lecture and problem set will leverage your new Python skills, especially working with text, lists, and dictionaries; writing for-loops, conditional statements, and functions; and thinking like a programmer.\n",
    "\n",
    "**About the Data**\n",
    "\n",
    "We'll be creating a database from [Universal Period Review outcome reports](http://www.ohchr.org/EN/HRBodies/UPR/Pages/BasicFacts.aspx).\n",
    "\n",
    "The Universal Periodic Review (UPR) is a process run by the United Nations Human Rights Council, which involves a periodic review of the human rights records of all 193 UN Member States.\n",
    "\n",
    "Reviews take place through an interactive discussion between the State under review and other UN Member States. During this discussion any UN Member State can pose questions, comments and/or make recommendations to the States under review. States under review can then respond, stating which recommendations they reject, accept, will consider, etc. Reports are then drawn up detailing this discussion.\n",
    "\n",
    "We will be analyzing outcome reports from the 2014 Universal Period Reviews of 42 countries, which we retrieved [here](http://www.ohchr.org/EN/HRBodies/UPR/Pages/Documentation.aspx) and formatted as text documents.\n",
    "\n",
    "The goal is to convert these semi-structured texts to a tabular dataset of **recommendations** with the following variables:\n",
    "\n",
    "1. Text of recommendation (*text*)\n",
    "2. Country to which the recommendation is directed (*to*)\n",
    "3. Country that is making the recommendation (*from*)\n",
    "4. The year when the review took place (*year*)\n",
    "5. The response to the recommendation, i.e. whether the reviewed country rejects, accepts, etc (*decision*)\n",
    "\n",
    "In other words, we want to turn this:\n",
    "\n",
    "<img src=\"img/text.png\" width=\"600\">\n",
    "\n",
    "into this:\n",
    "\n",
    "<img src=\"img/tabular.png\" width=\"400\">\n",
    "\n",
    "Take a few minutes to look at the files, which are located in `data/txts`, and get a sense for how they're structured."
   ]
  },
  {
   "cell_type": "code",
   "execution_count": null,
   "metadata": {},
   "outputs": [],
   "source": [
    "import os\n",
    "import csv"
   ]
  },
  {
   "cell_type": "markdown",
   "metadata": {},
   "source": [
    "# PART A: Start with one document"
   ]
  },
  {
   "cell_type": "markdown",
   "metadata": {},
   "source": [
    "## 1. Read, Clean, Assign\n",
    "\n",
    "We're going to start off working with just one document. Then we'll be able to put that into a loop that runs on all the documents.\n",
    "\n",
    "**task**:\n",
    "\n",
    "1. Read one document\n",
    "2. Collect information on the country and year\n",
    "3. Keep the section we're interested in\n",
    "4. Turn each line into an item in a list.\n",
    "\n",
    "**skills**:\n",
    "- file reading\n",
    "- [string](https://github.com/dlab-berkeley/python-intensive/blob/master/Glossary.md#string) slicing\n",
    "- string methods\n",
    "- indexing"
   ]
  },
  {
   "cell_type": "markdown",
   "metadata": {},
   "source": [
    "### 1.1 Read in \"cotedivoire2014.txt\"\n",
    "\n",
    "Fill in the blanks to read in the file. We'll need to include the `encoding='utf8'` optional parameter to the `open()` function to ensure that the text file is read correctly on all operating systems."
   ]
  },
  {
   "cell_type": "code",
   "execution_count": 1,
   "metadata": {},
   "outputs": [],
   "source": [
    "directory = './data/txts'\n",
    "file_name = \"cotedivoire2014.txt\"\n",
    "\n",
    "with open(directory + '/'+ file_name,'r', encoding='utf8') as cdi:\n",
    "    text = cdi.read()"
   ]
  },
  {
   "cell_type": "markdown",
   "metadata": {},
   "source": [
    "### 1.2 Assign country and year variables \n",
    "\n",
    "You'll notice that the file name consists of the name of the country and the year. We can use this to get that information. Slice the file name to create 2 new variables, `country`, and `year`.\n",
    "\n",
    "Be careful! Remember that we are going to apply this to the other file names later. Make sure that however you slice \"cotedivoire2014.txt\" would work for the other files in the `data/txts` directory."
   ]
  },
  {
   "cell_type": "code",
   "execution_count": 2,
   "metadata": {},
   "outputs": [],
   "source": [
    "country = file_name[:-8]\n",
    "\n",
    "year = file_name[-8:-4]"
   ]
  },
  {
   "cell_type": "markdown",
   "metadata": {},
   "source": [
    "### 1.3 Get the Recommendations Section\n",
    "\n",
    "Note that the section we want starts with `\"II. Conclusions and/or recommendations\\n\"`. What [method](https://github.com/dlab-berkeley/python-intensive/blob/master/Glossary.md#method) would you use to get everything after this substring? Fill in the blank below and [assign](https://github.com/dlab-berkeley/python-intensive/blob/master/Glossary.md#assign) the value to a new variable called `rec_text`.\n",
    "\n",
    "Note: there is certainly more than one way to do this, but the code below suggests one string method in particular. If you have time, think about what other methods or libraries you could use to get certain substrings."
   ]
  },
  {
   "cell_type": "code",
   "execution_count": 52,
   "metadata": {},
   "outputs": [],
   "source": [
    "header = text.split(\"II. Conclusions and/or recommendations\\n\")\n",
    "\n",
    "rec_text = header[1]"
   ]
  },
  {
   "cell_type": "markdown",
   "metadata": {},
   "source": [
    "### 1.4 Turn it into a list\n",
    "\n",
    "Using a string method, turn the string above into a list of lines, and store it in a variable called `recs`. Remember that a new line is represented by `\\n`."
   ]
  },
  {
   "cell_type": "code",
   "execution_count": 5,
   "metadata": {},
   "outputs": [
    {
     "data": {
      "text/plain": [
       "['127. The recommendations listed below enjoy the support of C™te dÕIvoire: ',\n",
       " '127.1 Consider the accession to core human rights instruments (Lesotho); and to other main international human rights treaties that it is not yet a party to (Philippines); ',\n",
       " '127.2 Make efforts towards the ratification of the OP-CAT (Chile); ',\n",
       " '127.3 Ratify the OP-CAT (Ghana, Tunisia), as recommended previously in 2009 (Czech Republic) and take policy measures to prevent torture and ill-treatment (Estonia); ',\n",
       " '127.4 Accede to the OP-CAT as soon as possible (Uruguay); ',\n",
       " '127.5 Consider ratifying OP-CAT (Burkina Faso); ',\n",
       " '127.6 Ratify the International Convention on the Protection of the Rights of All Migrant Workers and Members of Their Families (ICRMW) (Ghana); ',\n",
       " '127.7 Consider acceding to the ICRMW (Chad); ',\n",
       " '127.8 Make efforts towards the ratification of ICCPR-OP 2 (Chile); ',\n",
       " '127.9 Ratify ICCPR-OP 2 (Rwanda) to abolish death penalty (France, Montenegro); ',\n",
       " '127.10 Accede to the Agreement on the Privileges and Immunities of the International Criminal Court (Slovakia); ',\n",
       " '127.11 Sign and ratify the Optional Protocol to the International Covenant on Economic, Social and Cultural Rights (Portugal); ',\n",
       " '127.12 Fully implement CEDAW (Israel); ',\n",
       " '127.13 Ratify the third Optional Protocol to CRC (Portugal); ',\n",
       " '127.14 Sign (Portugal) ratify (France, Portugal, Tunisia) and accede to the International Convention for the Protection of All Persons from Enforced Disappearance as soon as possible (Uruguay); ']"
      ]
     },
     "execution_count": 5,
     "metadata": {},
     "output_type": "execute_result"
    }
   ],
   "source": [
    "recs = rec_text.split(\"\\n\")\n",
    "\n",
    "recs[:15]"
   ]
  },
  {
   "cell_type": "markdown",
   "metadata": {},
   "source": [
    "### 1.5 Make a function\n",
    "\n",
    "Let's put all of that code into a function that will read in a file and return a list of recommendations."
   ]
  },
  {
   "cell_type": "code",
   "execution_count": 53,
   "metadata": {},
   "outputs": [
    {
     "name": "stdout",
     "output_type": "stream",
     "text": [
      "['127. The recommendations listed below enjoy the support of C™te dÕIvoire: ', '127.1 Consider the accession to core human rights instruments (Lesotho); and to other main international human rights treaties that it is not yet a party to (Philippines); ', '127.2 Make efforts towards the ratification of the OP-CAT (Chile); ', '127.3 Ratify the OP-CAT (Ghana, Tunisia), as recommended previously in 2009 (Czech Republic) and take policy measures to prevent torture and ill-treatment (Estonia); ', '127.4 Accede to the OP-CAT as soon as possible (Uruguay); ', '127.5 Consider ratifying OP-CAT (Burkina Faso); ', '127.6 Ratify the International Convention on the Protection of the Rights of All Migrant Workers and Members of Their Families (ICRMW) (Ghana); ', '127.7 Consider acceding to the ICRMW (Chad); ', '127.8 Make efforts towards the ratification of ICCPR-OP 2 (Chile); ', '127.9 Ratify ICCPR-OP 2 (Rwanda) to abolish death penalty (France, Montenegro); ', '127.10 Accede to the Agreement on the Privileges and Immunities of the International Criminal Court (Slovakia); ', '127.11 Sign and ratify the Optional Protocol to the International Covenant on Economic, Social and Cultural Rights (Portugal); ', '127.12 Fully implement CEDAW (Israel); ', '127.13 Ratify the third Optional Protocol to CRC (Portugal); ', '127.14 Sign (Portugal) ratify (France, Portugal, Tunisia) and accede to the International Convention for the Protection of All Persons from Enforced Disappearance as soon as possible (Uruguay); ', '127.15 Continue efforts to implement the total prohibition of torture and ill-treatment by integrating CAT into domestic legislation and ratify OP-CAT (Costa Rica); ', '127.16 Incorporate CAT into domestic law in order to define crimes of torture and incorporate it in the national legislation (France); ', '127.17 Revise the penal code and criminal procedure code and within this framework the definition and criminalization of torture (Cabo Verde); ', '127.18 Criminalize torture and other inhuman or degrading treatment or punishment in the Penal Code (Belgium); ', '127.19 Continue to adapt national legislation in order to better implement the provisions of international treaties (Russian Federation); ', '127.20 Continue to develop the institutional and legal framework in respect of human rights (Lesotho); ', '127.21 Review the Criminal and Criminal Procedural Codes in order to bring them into line with international standards (Russian Federation); ', '127.22 Review its national legislation in order to ensure its full alignment with obligations under the Rome Statute, in particular by incorporating provisions enabling cooperation with the Court (Latvia); ', '127.23 Fully align its national legislation with the Rome Statute of the ICC and accede to the Agreement on the Privileges and Immunities of the Court (APIC) (Estonia); ', '127.24 Fully align its national legislation with the Rome Statute, including by incorporating provisions to cooperate promptly and fully with ICC and to investigate and prosecute genocide, crimes against humanity and war crimes effectively before its national courts (Liechtenstein); ', '127.25 Continue its full cooperation with ICC (Burkina Faso);  ', '127.26 Introduce legislative measures to strengthen the rule of law and consolidate cooperation between national and international mechanisms to fight against impunity notably between the ICC, the Special Investigation Unit, and the military court (Canada); ', '127.27 Quickly complete the alignment of the national legislation with the provisions of the Rome Statute (Tunisia); ', '127.28 Adopt legislative measures for an effective implementation of the Rome Statute (Uruguay); ', '127.29 Revise its legislation to bring it into line with the requirements of the Rome Statue, so that, for example, statutes of limitations are not applicable to crimes against humanity, ensuring that all persons regardless of their position or rank are liable to prosecution as well as including responsibility of superior officers for crimes against humanity and war crimes committed with their knowledge (Belgium); ', '127.30 Swiftly adopt the law on the protection of human rights defenders by the Ivorian Parliament, and its immediate implementation (Czech Republic); ', '127.31 Adopt a comprehensive law on the trafficking in persons, including women and children (Sierra Leone); ', '127.32 Fully align its national legislation with the CEDAW, including by eliminating all discriminatory provisions from national laws and by supporting its full implementation with practical as well as policy measures (Estonia); ', '127.33 Intensify its efforts to combat violence against women by criminalizing and implementing comprehensive laws prohibiting sexual and gender-based violence and female genital mutilation, and by providing the necessary support to victims of sexual and gender-based violence (Liechtenstein); ', '127.34 Continue and strengthen its efforts towards enforcing the law on female genital mutilation (Norway); ', '127.35 Take necessary steps to enforce laws covering violence, including sexual violence, against women and girls and support to victims to ensure that perpetrators are sanctioned (Norway); ', '127.36 Take all the necessary measures to criminalize violence against women and girls and adopt a committed and determined criminal policy to fight against this surge (Luxembourg); ', '127.37 Criminalize domestic violence in the Penal Code (Paraguay); ', '127.38 Adopt a comprehensive law on violence against women (South Africa); ', '127.39 Carry on the legislative amendments to repeal all discriminatory provisions against women and adopt a comprehensive law on violence against women (Turkey); ', '127.40 Include in its criminal law the definition of rape and other crimes of a sexual nature, according to International Law (Uruguay); ', '127.41 Adopt a specific law on domestic violence, including by criminalizing marital rape (Belgium); ', '127.42 Enact legislation dealing with prohibiting violence against women and implement it in law and practice (Botswana); ', '127.43 Take measures both in legislation and practice to ensure the rights of children, including access to education and health, birth registration, combating child labour and violence against them (Costa Rica); ', '127.44 Guarantee that the legal and institutional framework ensures that children in conflict with the law be dealt with in a manner that conforms to international standards (South Africa); ', '127.45 Enhance the activities of the National Commission for Human Rights and ensure its conformity with the Paris Principles (France); ', '127.46 Create an independent Human Rights Institution in accordance with the Paris Principles (Ghana); ', '127.47 Continue its efforts in empowering the National Human Rights Commission, in particular by holding consultations with all stakeholders with a view to making necessary adjustments to the existing law so as to ensure the Commission is in line with the Paris Principles in respect of its mandate, composition, organization, functioning, independence and means (Indonesia); ', '127.48 Ensure that its NHRI is in conformity with the Paris Principles (Sierra Leone); ', '127.49 Focus on the five priority areas identified by the Government (Ghana); ', '127.50 Continue its efforts to overcome its domestic challenges and constraints with a view to improving the human rights situation in the country (Malaysia); ', '127.51 Establish a National Action Plan for the priorities, initiatives and commitments it has identified in its UPR report with a view to improving the human rights situation in C™te dÕIvoire (Mauritius); ', '127.52 Continue to advance in tackling, in an efficient and responsible manner, the structural underlying causes of discrimination against women (Comoros); ', '127.53 Approve the national strategy to promote gender mainstreaming and empowerment of women, and to strengthen mechanisms responsible for monitoring its effective implementation (Maldives); ', '127.54 Strengthen the national policy against sexual violence, in cooperation with the UN and civil society and pursue its efforts to promote womenÕs rights in particular to fight against all forms of genital mutilation and forced and early marriages (France); ', '127.55 Strengthen the protection and assistance provided to victims in the national action plan against domestic and sexual violence, including measures to encourage complaints, and access to justice, legal advice, medical and psychological attention (Mexico); ', '127.56 Undertake a comprehensive legal and cultural awareness-raising campaign on sexual and gender-based violence including issues such as rape, forced marriage, female genital mutilation and domestic violence (Ireland); ', '127.57 Pursue efforts to combat violence against women, notably by intensifying awareness-raising campaigns about respect for womenÕs rights (State of Palestine); ', '127.58 Continue ongoing efforts and adopt effective measures and policies to stop and prevent sexual violence against women and girls, as recommended previously in 2009 (Sweden); ', '127.59 Continue efforts to fight violence against women, including by raising awareness on the fight against female genital mutilation (Algeria); ', '127.60 Allocate greater resources to combat sexual violence and to prosecute perpetrators (Australia); ', '127.61 Take effective action to protect women and children from sexual violence, including by strengthening and implementing legislation against domestic violence and providing counselling services and safe places for victims (Germany); ', '127.62 Facilitate the filing of complaints by victims of sexual violence by assigning women (officers) to police stations and subsidize medical certificates attesting to such violence (Hungary); ', '127.63 Consolidate the progress achieved in the field of human rights education and training, by regularly organizing, with the assistance of the international community, seminars and awareness-raising workshops on human rights, particularly for members of the security forces and the judiciary (Morocco); ', '127.64 Implement policies aimed primarily at judicial and police officers, which combat stereotypes that normalize violence against women, in order to create a proper atmosphere for victims to file complaints on such acts (Paraguay); ', '127.65 Intensify awareness-raising and educational campaigns to supplement current programmes aimed at empowering women, with a particular focus on identifying and countering discriminatory perceptions and actions or practices that could endanger the safety and security of women and girls (Philippines); ', '127.66 Adopt a national strategy to combat violence against women and to ensure equal participation of women in political and social life (Russian Federation); ', '127.67 Take further measures to improve transparency and clarification on its policies and measures to promote gender equality, especially with regard to the implementation of Act No. 2013-33 (Netherlands); ', '127.68 Continue working on the elaboration of its national human rights policy for its prompt implementation and take into account the constructive contributions arising from this review in the aforementioned policy (Nicaragua); ', '127.69 Strengthen the inclusive approach in the implementation of the national policy for the promotion and protection of Human Rights (Senegal); ', '127.70 Step up efforts to strengthen the process of national reconciliation (Congo); ', '127.71 Redouble its efforts to succeed in the national reconciliation process (Democratic Republic of the Congo); ', '127.72 Strengthen the action of the Dialogue, Truth and Reconciliation Commission in line with the National Programme on Social Cohesion (France); ', '127.73 Speed up the national reconciliation process, so as to consolidate the progress towards the enjoyment of human rights by its people, with the support of the international community (Mozambique); ', '127.74 Continue the dialogue and positive measures to foster national reconciliation and social cohesion (Senegal); ', '127.75 Continue the policy of national reconciliation and consider, if necessary, elaboration of further measures with a view to fostering the process of reconciliation (Slovakia); ', '127.76 Continue the process of national reconciliation (Algeria); ', '127.77 Continue its efforts to finalize the national reconciliation process so as to preserve the promotion and protection of human rights (Angola); ', '127.78 Ensure the participation of all political parties, civil society organizations and community leaders in the work of the Dialogue, Truth and Reconciliation Commission (Australia); ', '127.79 Continue its dialogue on the national reconciliation process through the work of the Dialogue, Truth and Reconciliation Commission by ensuring that the search for truth is a fundamental principle of the Commission, so that it produces recommendations for fair and unbiased actions, and adopt these recommendations at the earliest (Canada); ', '127.80 Redouble its efforts to reintegrate former combatants (Australia); ', '127.81 Continue its efforts to identify war victims and compensate the damages (Togo); ', '127.82 Take full use of technical assistance of the UN and Ivorian NGOs dealing with womenÕs rights to finalize the strategy and implement it accordingly, once adopted (Slovenia); ', '127.83 Continue to move forward through the adoption of all measures and policies that can achieve greater efficiency in the promotion and protection of human rights, and the promotion of the rule of law (Burundi); ', '127.84 Adopt a multiannual action plan to implement the National Policy on Human Rights, and the recommendations of the Human Rights Council, with an effective monitoring structure (Cabo Verde); ', '127.85 Implement the National Commission of Inquiry recommendations to ensure that those responsible for violations of human rights, from all parties are held accountable for their actions as soon as possible (Canada); ', '127.86 Strengthen the implementation of the recommendations of the International Commission on Access to Justice and Victims Assistance, and of those observations made by the Convention on the Elimination of All Forms of Discrimination against Women (Chile); ', '127.87 Extend the deadline for late registration of births and put in place a simple and free birth registration procedure as well as a national strategy to raise awareness on the importance of birth registration (Hungary); ', '127.88 Continue building its national capacities and implement its priorities as they were specified in its national report (United Arab Emirates); ', '127.89 Develop a comprehensive policy aimed at strengthening the judicial system, and rule of law (Botswana); ', '127.90 Continue the implementation of the national strategy to encourage women to stand for elections and elected positions (Algeria); ', '127.91 Submit its initial report to the Committee against Torture which is fifteen years overdue (Republic of Korea); ', '127.92 Submit its backlog of outstanding reports to the concerned treaty bodies (Sierra Leone); ', '127.93 Cooperate with the mandate holders of special procedures and treaty bodies (Chad); ', '127.94 Continue its cooperation with the treaty bodies and submit its outstanding reports (Togo); ', '127.95 Request the necessary aid and technical assistance to the international community, in particular to the United Nations bodies dealing with development, to support the initiatives of the National Development Plan (Morocco); ', '127.96 Pursue the reforms engaged for the protection of children and gender equality (Djibouti); ', '127.97 Make every effort to completely abolish all forms of discrimination against women (Burundi); ', '127.98 Speed up the process of identification of discriminatory provisions against women (Paraguay); ', '127.99 Continue its fight against discrimination against women (Bangladesh); ', '127.100 Strengthen measures to expand womenÕs access to land and to microfinance and microcredit at low interest rates (Egypt); ', '127.101 Double its efforts to enhance the enjoyment of women of their legitimate rights and protect them from all forms of violations (Sudan); ', '127.102 Take all necessary measures to further promote the rights of women and girls, including abolishing all discriminatory laws, implementing the national action plan to combat sexual violence and ending female genital mutilation (Brazil); ', '127.103 Take concrete measures to protect the rights of people with albinism, in accordance with the recommendations made by the Office of the High Commissioner, and raise awareness among society about their situation (Spain); ', '127.104 Adopt measures to stop aggressions and discrimination against persons suffering from albinism (Central African Republic); ', '127.105 Reduce overcrowding and improve physical situation of prisoners and administrative management in prisons (Spain); ', '127.106 Consider incorporating the UN Rules for the Treatment of Women Prisoners and Non-Custodial Measures for Women Offenders, otherwise known as the ÒBangkok RulesÓ, as part of its programme to enhance the condition of detainees in prisons (Thailand); ', '127.107 Refrain from arbitrary arrests and make every effort to bring detainees before a judge within the statutory deadline of 48 hours (Germany); ', '127.108 End all arbitrary detention and strengthen the capacity on the judicial system as addressed in the country report following the previous Universal Periodic Review (Norway); ', '127.109 Continue improving conditions of detention, notably through the separation of quarters of children, women and men in detention facilities where this has not been achieved yet (State of Palestine); ', '127.110 Continue to take measures to ensure in practice the protection of children against sale and trafficking, in accordance with Act No. 2010-272, and ensure that persons engaging in the sale and trafficking of children are prosecuted (Egypt); ', '127.111 Intensify the initiatives aimed at both preventing child and women trafficking, child labour, forced prostitution, and facilitating the social reintegration of the victims (Italy); ', '127.112 Take necessary measures to eliminate worst forms of child labour, specifically in mining, forced begging, and commercial sexual exploitation (United States of America); ', '127.113 Thoroughly investigate human rights violations perpetrated by all sides after the 2010 presidential elections and fully cooperate with the ICCÕs investigations (Czech Republic); ', '127.114 Ensure an equitable and impartial approach to the administration of justice so that all perpetrators responsible for violent crimes are held to account, irrespective of their political, tribal or religious background (Ireland); ', '127.115 Ensure that all those responsible for serious human rights abuses and violations of international humanitarian law are brought to justice in accordance with its international obligations (Israel); ', '127.116 Ensure that all the initiatives taken in the field of reconciliation comply with international standards on human rights, beginning with a comprehensive fight against impunity (Italy); ', '127.117 Promote national reconciliation by investigating crimes, accountability measures and reparation for victims (Mexico); ', '127.118 Reinforce the judicial system which ensures that serious human rights perpetrators are brought to justice (Republic of Korea); ', '127.119 Strengthen mechanisms which facilitate access to justice for victims of atrocities including sexual violence (Sierra Leone); ', '127.120 Continue to undertake measures to enhance the rule of law to protect the rights of its people (Singapore); ', '127.121 Prosecute all presumed perpetrators of human rights violations (Switzerland); ', '127.122 Continue efforts initiated in order to prosecute all perpetrators of serious human rights violations and provide assistance to victims (Argentina); ', '127.123 Ensure fair and rapid justice for all perpetrators of human rights violations (Burkina Faso); ', '127.124 Strengthen the judiciary and police bodies for the prevention of sexual violence, in particular through increasing the number of women and their visibility in the police and the justice system (Portugal); ', '127.125 Strengthen awareness campaigns on the harmful consequences of female genital mutilation and bring all excision practitioners to justice (Hungary); ', '127.126 Thoroughly investigate all allegations of sexual violence and bring perpetrators of such crimes to justice, in accordance with international standards, as recommended previously in 2009 (Sweden); ', '127.127 Undertake all necessary measures to end impunity for sexual violence by investigating all allegations of sexual violence and to prosecute individuals against whom there is sufficient evidence of such abuses (the former Yugoslav Republic of Macedonia); ', '127.128 Guarantee to women effective access to the courts and strengthen assistance and support to victims (Argentina); ', '127.129 Develop a comprehensive policy aimed at strengthening the judicial system, focusing on the effective access to justice for women (Israel); ', '127.130 Take measures to facilitate access to justice for victims of sexual violence, such as by issuing the medical certificates necessary to lodge complaints for sexual violence (Belgium); ', '127.131 Improve access to legal assistance and ensure compensation for victims, especially female victims of sexual violence (Burkina Faso); ', '127.132 Work towards fostering the independence of the Judiciary and reducing the number of people in pretrial detention without substantiated charges (Brazil); ', '127.133 Engage without any delay to prosecute all those who have committed serious violations of human rights, in particular during the post-electoral crisis in 2010, without any consideration of their ethnic, religious or political status (Luxembourg); ', '127.134 Step up their efforts and undertake credible investigations and prosecutions against members of both sides of the post-electoral conflict, including the security forces, thus contributing to the end of impunity (Slovenia); ', '127.135 Take appropriate measures to expedite the ongoing legal proceedings against supporters of former President Laurent Gbagbo, and investigate and punish, when appropriate, crimes committed by the forces of President Ouattara (Spain); ', '127.136 Continue to fight impunity by pursuing crimes that occurred during or in conjunction with the post-electoral conflict and previous conflicts in the country, regardless of which side in the conflicts the perpetrators belonged to. This includes continuing cooperation with the International Criminal Court (Sweden); ', '127.137 Implement the report of the National Inquiry Commission and the commitments taken to fight against impunity, by prosecuting the presumed perpetrators of human rights abuses during the post-electoral crisis regardless of their political affiliation (France); ', '127.138 Expedite its fight against impunity and prosecute the perpetrators of serious violations of human rights committed during the post-electoral crisis (Turkey); ', '127.139 Ensure that all parties responsible for the post-election crimes of 2010 be brought to justice regardless of their political affiliation (United Kingdom of Great Britain and Northern Ireland); ', '127.140 Develop a comprehensive transitional justice strategy that will encompass accountability, reparations, security sector reform and judicial reform ahead of the presidential elections in October 2015 (United Kingdom of Great Britain and Northern Ireland); ', '127.141 Investigate, and when appropriate, prosecute perpetrators of serious crimes, including abuses perpetrated by both sides of the post-election violence, on a non-discriminatory basis and regardless of their ethnic, religious, or political affiliations, to promote national reconciliation and the rule of law (United States of America); ', '127.142 Continue to prioritize the investigation and prosecution of serious international crimes regardless of political affiliation and cooperate with the International Criminal Court in this regard (Australia); ', '127.143 Take concrete steps to combat impunity with respect to human rights abuses committed by security forces, including dozos, by increasing governmental oversight of their operations, investigating credible allegations, and prosecuting cases where appropriate (United States of America); ', '127.144 Improve local administrative and judicial mechanisms to recover lands in the shortest possible time (Spain); ', '127.145 Give priority to resolving conflicts related to land tenure (Burkina Faso); ', '127.146 Adopt measures to ensure open and free campaign before the 2015 presidential elections, grant the opposition representatives access to all State-controlled media, and promote work of all journalists (Czech Republic); ', '127.147 Leave no stone unturned to address all outstanding electoral reform issues to guarantee free and fair elections in 2015 (Ghana); ', '127.148 Spare no efforts in creating conditions conducive to the peaceful and democratically credible holding of the 2015 presidential elections, in particular by convening a solid voter registration process reforming as necessary the National Election Commission (Indonesia); ', '127.149 Take the adequate measures to enlarge the space allocated to civil society (Djibouti); ', '127.150 Step up its efforts to protect civil society space within the country (Italy); ', '127.151 Pursue efforts to improve the living conditions of women, notably through measures aimed at encouraging women to stand for elective office and to seek public appointments, as well as through measures aimed at facilitating womenÕs access to credit, land, and to basic health services (State of Palestine); ', '127.152 Continue the efforts to facilitate the registration of births and create awareness of the importance of this procedure, which allows access to all other rights and basic services such as education and health (Turkey); ', '127.153 Conduct awareness campaigns to promote birth registration of all children and take the necessary measures to ensure easy and effective access to free birth registration for the newborn (Mexico); ', '127.154 Continue ongoing efforts to reduce the rates of maternal mortality (Egypt); ', '127.155 Strengthen efforts to reduce the incidence of maternal mortality (South Africa); ', '127.156 Take concrete measures to improve victim assistance, including health and psychosocial help, to victims of sexual violence and rape, also by providing free medical certificates to rape survivors, since this for most victims unaffordable document is deemed crucial in the course of any pursued investigations (Slovenia); ', '127.157 Remove any obstruction of the right to justice for victims of sexual violence and provide them with effective treatments (Spain); ', '127.158 Share experience with states within the region and benefit from their experiences in combating female genital mutilation (South Sudan); ', '127.159 Continue effectively the fight against female genital mutilation (Togo); ', '127.160 Continue efforts to sensitize public officials on the respect for womenÕs rights, in particular the fight against female genital mutilation (Bolivia (Plurinational State of)); ', '127.161 Continue its efforts in the social field, in particular for those most in need, especially in the field of nutrition, health and education (Venezuela (Bolivarian Republic of)); ', '127.162 Increase its efforts through targeted and comprehensive measures, especially in education, in order to eliminate traditional harmful practices, such as FGM and early and forced marriage (Italy); ', '127.163 Continue and strengthen efforts to provide quality education for all, especially free primary education for children and education for persons with disabilities (Maldives); ', '127.164 With support from UNESCO and ILO, continue to strengthen its education system and vocational training especially for youth (Singapore); ', '127.165 Continue current efforts to provide every child with good quality basic education (Egypt); ', '127.166 Urge to take measures for the introduction of specific modules on human rights at all levels of education, and to continue its cooperation with international and regional human rights mechanisms, boost the national framework of humanitarian consultation created by the decree of 23 January 2013 and to strengthen the role of NGOsÕ interface and civil society (Burkina Faso); ', '127.167 Continue to create the conditions to facilitate the voluntary reparation of Ivorian refugees in accordance with the Tripartite Agreement (Ghana); ', '127.168 Adopt additional measures that tend to develop a comprehensive strategy that tends to address the needs of IDPs and provide sustainable solutions (Argentina); ', '127.169 Strengthen monitoring and supervision by relevant environmental agencies in order to ensure that toxic waste is treated in an environmentally sound manner (Egypt); ', '127.170 Intensify efforts to meet the Millennium Development Goals within the remaining period (Ethiopia); ', '127.171 Continue, with the assistance of the international community, to implement its plans for economic and social development and further reduce poverty so as to lay a firm foundation for improving peoplesÕ livelihood (China); ', '127.172 Strengthen measures taken to fight poverty and unemployment, including through the intensified implementation of programmes in the National Development Plan for 2012Ð2015 in order to combat poverty and foster development (Ethiopia); ', '127.173 Continue its efforts on poverty reduction (Cuba); ', '127.174 Continue its fight against poverty with international communityÕs support (Bangladesh); ', '127.175 Continue to consolidate efforts to combat extreme poverty and improve the economic situation in the country, while ensuring that marginalized sectors, including persons with disabilities and migrants, are given equal and fair access to labour opportunities (Philippines); ', '127.176 Work towards the effective implementation of the national development plan that was adopted in March 2012 in its six points (Sudan); ', '127.177 Redouble actions to improve the compliance with the human right to water (Bolivia (Plurinational State of)); ', '127.178 Consider the promotion and protection of the rights of peasants and other people working in rural areas (Bolivia (Plurinational State of)). ', '128. The following recommendations will be examined by C™te dÕIvoire, which will provide responses in due time, but no later than the 27th session of the Human Rights Council in September 2014: ', '128.1 Ratify the Kampala amendments to the Rome Statute, if possible with a view to contributing to the activation of the jurisdiction of the ICC over the crime of aggression at the beginning of 2017 (Liechtenstein); ', '128.2 Consider ratification of the Optional Protocol to the Convention on the Rights of the Child on a communications procedure (Slovakia) as a matter of priority (Thailand); ', '128.3 Fulfil its obligations in accordance with CAT, immediately submit its overdue initial national report to the Committee against Torture and include a specific individual offence criminalizing acts of torture as well as a definition of torture in the national legislation (Czech Republic); ', '128.4 Consider extending a standing invitation to all the special procedures mandate holders of the Human Rights Council (Latvia); ', '128.5 Extend a standing invitation to all Human Rights Council special procedures (Montenegro, Portugal, Republic of Korea); ', '128.6 Better protect LGBTI persons and persons with AIDS against any act of discrimination and violence and review its legislation in this context (Switzerland). ', '129. The following recommendations did not enjoy the support of C™te dÕIvoire and would thus be noted: ', '129.1 Take further steps to prevent discrimination on the grounds of gender identity and sexual orientation and to raise awareness on its consequences (Netherlands); ', '129.2 Conduct such specific awareness-raising campaigns which can help to sensitize the general Ivorian public regarding the rights of LGBTI persons (Slovenia). ', '130. All conclusions and/or recommendations contained in the present report reflect the position of the submitting State(s) and/or the State under review. They should not be construed as endorsed by the Working Group as a whole. ', '', '', '', '', 'Annex ', '[English only] ', '', 'Composition of the delegation ', 'The delegation of C™te dÕIvoire was headed by Mr. GnŽnŽma Mamadou Coulibaly and composed of the following members: ', '¥ ', 'Kouadio\\t Adjoumani, Permanent Representative of C™te dÕIvoire to the United Nations; ', '', '¥ ', 'Mamadou Diane, Adviser Counsellor of the President of the Republic; ', '', '¥ ', 'FidŽle Sarassoro, Adviser to the President, Director of ADDR; ', '', '¥ ', 'Bako Jean Fructueux, Deputy Chief of Cabinet Ð Ministry of Justice; ', '', '¥ ', 'Acka Kassy Joseph,\\t Technical Adviser of the Cabinet of the Prime Minister Ð Ministry of Economy, Finances and Budget; ', '', '¥ ', 'Ouattara Siaka Stevens, Technical Adviser of the Cabinet of the State Ministry Ð Ministry of the Interior and Security; ', '', '¥ ', 'Koffi Yao Bernard, Technical Adviser in charge of Conventions of the Ministry of the Environment, Urban Health and Sustainable Development; ', '', '¥ ', 'Oulai Zagni MadelŽne, Deputy of the National Assembly; ', '', '¥ ', 'Marie-Christine Bocoum, Commission Director Ð Economic and Social Council; ', '', '¥ ', 'KonŽ\\t Mariatou, Director Coordinator of the National Programme for Social Cohesion; ', '', '¥ ', 'KamatŽ Banhouman, Director of Promotion of Human Rights and Public Liberties; ', '', '¥ ', 'Agoh GŽrard, Vice Director on Legislation Ð Ministry of Defense; ', '', '¥ ', 'Frank Aymar Douzan, Minister in charge of the Economy, Finances and Budget; ', '', '¥ ', 'Zouon Bi Tidou Nestor, First Counsellor to the Permanent Mission in Geneva; ', '', '¥ ', 'TiŽmoko Moriko, Counsellor, Permanent Mission in Geneva; ', '', '¥ ', 'Bakayoko Nogozene, Counsellor, Permanent Mission in Geneva; ', '', '¥ ', 'SiluŽ Karim, Counsellor, Permanent Mission in Geneva; ', '', '¥ ', 'Bamba LancinŽ Jo‘l, Counsellor in charge of Protocol of the Permanent Mission in Geneva; ', '', '¥ ', 'DiŽ MindŽba Hanna Gr‰ce, Assistant to the Direction of Legal Affairs Ð Ministry of State Ð Minister of Planning and Development; ', '', '¥ ', 'YŽboua Kouassi Martin, member of the Permanent Mission in Geneva; ', '', '¥ ', 'Benson Eba Fatim, Permanent Mission at Geneva. ', '', '', '', '', '', '']\n"
     ]
    }
   ],
   "source": [
    "def read_rec(filename):\n",
    "\n",
    "    #Read in country file\n",
    "    with open('./data/txts' + '/'+ filename,'r', encoding='utf8') as country_file:\n",
    "        text = country_file.read()\n",
    "    \n",
    "    #Extract country name and year\n",
    "    country = file_name[:-8]\n",
    "    year = file_name[-8:-4]\n",
    "    \n",
    "    #Extract \"recommendations\" from country file\n",
    "    header = text.split(\"II. Conclusions and/or recommendations\\n\")\n",
    "    rec_text = header[1]\n",
    "    \n",
    "    #Create output list\n",
    "    recs = rec_text.split(\"\\n\")\n",
    "    \n",
    "    return recs\n",
    "\n",
    "print(read_rec('cotedivoire2014.txt'))"
   ]
  },
  {
   "cell_type": "markdown",
   "metadata": {},
   "source": [
    "## 2. Chunk Recommendations\n",
    "\n",
    "**task**:\n",
    "\n",
    "These texts have 3 sections each. \n",
    "1. The first section contains those recommendations the country supports. \n",
    "2. The second section contains recommendations the country will examine. \n",
    "3. The third contains recommendations the country explicitely rejects. \n",
    "\n",
    "We want to chunk the the text into three lists, `accept`, `examine`, `reject` -- each containing their respective recommendations.\n",
    "\n",
    "**skills**:\n",
    "- string methods\n",
    "- list comprehensions\n",
    "- conditionals\n",
    "- indexing"
   ]
  },
  {
   "cell_type": "markdown",
   "metadata": {},
   "source": [
    "### 2.1: Find the paragraph numbers\n",
    "\n",
    "Each section starts with a main paragraph number (e.g. **123**). The individual recommendations are then noted as subparagraphs (e.g. **123.1, 123.2** etc.).\n",
    "\n",
    "All the accepted recommendations have the same main paragraph number (**123**). Next come the recommendations which will be examined, whose main paragraph number is just the next integer (**124**). After that are the rejected recommendations, with the next integer as their main paragraph number (**125**).\n",
    "\n",
    "We can't know the paragraph numbers beforehand. But we *can* leverage our knowledge of the structure of the documents to get them.\n",
    "\n",
    "Fill in the blanks below to create 3 variables containing the 3 paragraph numbers."
   ]
  },
  {
   "cell_type": "code",
   "execution_count": 35,
   "metadata": {},
   "outputs": [
    {
     "name": "stdout",
     "output_type": "stream",
     "text": [
      "127\n"
     ]
    }
   ],
   "source": [
    "paragraph1 = int(recs[0].split(\".\")[0])\n",
    "paragraph2 = paragraph1 + 1\n",
    "paragraph3 = paragraph1 + 2\n",
    "print(paragraph1)"
   ]
  },
  {
   "cell_type": "markdown",
   "metadata": {},
   "source": [
    "### 2.2 Parse the text\n",
    "\n",
    "Now create 3 new lists: `accept`, `examine`, `reject.` Complete the for loop code to filter through `recs` and assign each recommendation to its corresponding section.\n",
    "\n",
    "**hint**: How do you know if a line belongs to a section? It starts with the main paragraph number for that section. So use the **.startswith()** method."
   ]
  },
  {
   "cell_type": "code",
   "execution_count": 44,
   "metadata": {},
   "outputs": [
    {
     "name": "stdout",
     "output_type": "stream",
     "text": [
      "['129.1 Take further steps to prevent discrimination on the grounds of gender identity and sexual orientation and to raise awareness on its consequences (Netherlands); ', '129.2 Conduct such specific awareness-raising campaigns which can help to sensitize the general Ivorian public regarding the rights of LGBTI persons (Slovenia). ']\n"
     ]
    }
   ],
   "source": [
    "accept = []\n",
    "examine = []\n",
    "reject = []\n",
    "\n",
    "for i in recs:\n",
    "    if i.startswith(str(paragraph1)):\n",
    "        accept.append(i)\n",
    "    elif i.startswith(str(paragraph2)):\n",
    "        examine.append(i)\n",
    "    elif i.startswith(str(paragraph3)):\n",
    "        reject.append(i)\n",
    "\n",
    "accept = accept[1:]\n",
    "examine = examine[1:]\n",
    "reject = reject[1:]\n",
    "\n",
    "print(reject)\n"
   ]
  },
  {
   "cell_type": "markdown",
   "metadata": {},
   "source": [
    "### 2.3 Make a function\n",
    "\n",
    "Let's again put the code we just created to parse the text into 3 separate lists into a function."
   ]
  },
  {
   "cell_type": "code",
   "execution_count": 47,
   "metadata": {},
   "outputs": [
    {
     "name": "stdout",
     "output_type": "stream",
     "text": [
      "(['127.1 Consider the accession to core human rights instruments (Lesotho); and to other main international human rights treaties that it is not yet a party to (Philippines); ', '127.2 Make efforts towards the ratification of the OP-CAT (Chile); ', '127.3 Ratify the OP-CAT (Ghana, Tunisia), as recommended previously in 2009 (Czech Republic) and take policy measures to prevent torture and ill-treatment (Estonia); ', '127.4 Accede to the OP-CAT as soon as possible (Uruguay); ', '127.5 Consider ratifying OP-CAT (Burkina Faso); ', '127.6 Ratify the International Convention on the Protection of the Rights of All Migrant Workers and Members of Their Families (ICRMW) (Ghana); ', '127.7 Consider acceding to the ICRMW (Chad); ', '127.8 Make efforts towards the ratification of ICCPR-OP 2 (Chile); ', '127.9 Ratify ICCPR-OP 2 (Rwanda) to abolish death penalty (France, Montenegro); ', '127.10 Accede to the Agreement on the Privileges and Immunities of the International Criminal Court (Slovakia); ', '127.11 Sign and ratify the Optional Protocol to the International Covenant on Economic, Social and Cultural Rights (Portugal); ', '127.12 Fully implement CEDAW (Israel); ', '127.13 Ratify the third Optional Protocol to CRC (Portugal); ', '127.14 Sign (Portugal) ratify (France, Portugal, Tunisia) and accede to the International Convention for the Protection of All Persons from Enforced Disappearance as soon as possible (Uruguay); ', '127.15 Continue efforts to implement the total prohibition of torture and ill-treatment by integrating CAT into domestic legislation and ratify OP-CAT (Costa Rica); ', '127.16 Incorporate CAT into domestic law in order to define crimes of torture and incorporate it in the national legislation (France); ', '127.17 Revise the penal code and criminal procedure code and within this framework the definition and criminalization of torture (Cabo Verde); ', '127.18 Criminalize torture and other inhuman or degrading treatment or punishment in the Penal Code (Belgium); ', '127.19 Continue to adapt national legislation in order to better implement the provisions of international treaties (Russian Federation); ', '127.20 Continue to develop the institutional and legal framework in respect of human rights (Lesotho); ', '127.21 Review the Criminal and Criminal Procedural Codes in order to bring them into line with international standards (Russian Federation); ', '127.22 Review its national legislation in order to ensure its full alignment with obligations under the Rome Statute, in particular by incorporating provisions enabling cooperation with the Court (Latvia); ', '127.23 Fully align its national legislation with the Rome Statute of the ICC and accede to the Agreement on the Privileges and Immunities of the Court (APIC) (Estonia); ', '127.24 Fully align its national legislation with the Rome Statute, including by incorporating provisions to cooperate promptly and fully with ICC and to investigate and prosecute genocide, crimes against humanity and war crimes effectively before its national courts (Liechtenstein); ', '127.25 Continue its full cooperation with ICC (Burkina Faso);  ', '127.26 Introduce legislative measures to strengthen the rule of law and consolidate cooperation between national and international mechanisms to fight against impunity notably between the ICC, the Special Investigation Unit, and the military court (Canada); ', '127.27 Quickly complete the alignment of the national legislation with the provisions of the Rome Statute (Tunisia); ', '127.28 Adopt legislative measures for an effective implementation of the Rome Statute (Uruguay); ', '127.29 Revise its legislation to bring it into line with the requirements of the Rome Statue, so that, for example, statutes of limitations are not applicable to crimes against humanity, ensuring that all persons regardless of their position or rank are liable to prosecution as well as including responsibility of superior officers for crimes against humanity and war crimes committed with their knowledge (Belgium); ', '127.30 Swiftly adopt the law on the protection of human rights defenders by the Ivorian Parliament, and its immediate implementation (Czech Republic); ', '127.31 Adopt a comprehensive law on the trafficking in persons, including women and children (Sierra Leone); ', '127.32 Fully align its national legislation with the CEDAW, including by eliminating all discriminatory provisions from national laws and by supporting its full implementation with practical as well as policy measures (Estonia); ', '127.33 Intensify its efforts to combat violence against women by criminalizing and implementing comprehensive laws prohibiting sexual and gender-based violence and female genital mutilation, and by providing the necessary support to victims of sexual and gender-based violence (Liechtenstein); ', '127.34 Continue and strengthen its efforts towards enforcing the law on female genital mutilation (Norway); ', '127.35 Take necessary steps to enforce laws covering violence, including sexual violence, against women and girls and support to victims to ensure that perpetrators are sanctioned (Norway); ', '127.36 Take all the necessary measures to criminalize violence against women and girls and adopt a committed and determined criminal policy to fight against this surge (Luxembourg); ', '127.37 Criminalize domestic violence in the Penal Code (Paraguay); ', '127.38 Adopt a comprehensive law on violence against women (South Africa); ', '127.39 Carry on the legislative amendments to repeal all discriminatory provisions against women and adopt a comprehensive law on violence against women (Turkey); ', '127.40 Include in its criminal law the definition of rape and other crimes of a sexual nature, according to International Law (Uruguay); ', '127.41 Adopt a specific law on domestic violence, including by criminalizing marital rape (Belgium); ', '127.42 Enact legislation dealing with prohibiting violence against women and implement it in law and practice (Botswana); ', '127.43 Take measures both in legislation and practice to ensure the rights of children, including access to education and health, birth registration, combating child labour and violence against them (Costa Rica); ', '127.44 Guarantee that the legal and institutional framework ensures that children in conflict with the law be dealt with in a manner that conforms to international standards (South Africa); ', '127.45 Enhance the activities of the National Commission for Human Rights and ensure its conformity with the Paris Principles (France); ', '127.46 Create an independent Human Rights Institution in accordance with the Paris Principles (Ghana); ', '127.47 Continue its efforts in empowering the National Human Rights Commission, in particular by holding consultations with all stakeholders with a view to making necessary adjustments to the existing law so as to ensure the Commission is in line with the Paris Principles in respect of its mandate, composition, organization, functioning, independence and means (Indonesia); ', '127.48 Ensure that its NHRI is in conformity with the Paris Principles (Sierra Leone); ', '127.49 Focus on the five priority areas identified by the Government (Ghana); ', '127.50 Continue its efforts to overcome its domestic challenges and constraints with a view to improving the human rights situation in the country (Malaysia); ', '127.51 Establish a National Action Plan for the priorities, initiatives and commitments it has identified in its UPR report with a view to improving the human rights situation in C™te dÕIvoire (Mauritius); ', '127.52 Continue to advance in tackling, in an efficient and responsible manner, the structural underlying causes of discrimination against women (Comoros); ', '127.53 Approve the national strategy to promote gender mainstreaming and empowerment of women, and to strengthen mechanisms responsible for monitoring its effective implementation (Maldives); ', '127.54 Strengthen the national policy against sexual violence, in cooperation with the UN and civil society and pursue its efforts to promote womenÕs rights in particular to fight against all forms of genital mutilation and forced and early marriages (France); ', '127.55 Strengthen the protection and assistance provided to victims in the national action plan against domestic and sexual violence, including measures to encourage complaints, and access to justice, legal advice, medical and psychological attention (Mexico); ', '127.56 Undertake a comprehensive legal and cultural awareness-raising campaign on sexual and gender-based violence including issues such as rape, forced marriage, female genital mutilation and domestic violence (Ireland); ', '127.57 Pursue efforts to combat violence against women, notably by intensifying awareness-raising campaigns about respect for womenÕs rights (State of Palestine); ', '127.58 Continue ongoing efforts and adopt effective measures and policies to stop and prevent sexual violence against women and girls, as recommended previously in 2009 (Sweden); ', '127.59 Continue efforts to fight violence against women, including by raising awareness on the fight against female genital mutilation (Algeria); ', '127.60 Allocate greater resources to combat sexual violence and to prosecute perpetrators (Australia); ', '127.61 Take effective action to protect women and children from sexual violence, including by strengthening and implementing legislation against domestic violence and providing counselling services and safe places for victims (Germany); ', '127.62 Facilitate the filing of complaints by victims of sexual violence by assigning women (officers) to police stations and subsidize medical certificates attesting to such violence (Hungary); ', '127.63 Consolidate the progress achieved in the field of human rights education and training, by regularly organizing, with the assistance of the international community, seminars and awareness-raising workshops on human rights, particularly for members of the security forces and the judiciary (Morocco); ', '127.64 Implement policies aimed primarily at judicial and police officers, which combat stereotypes that normalize violence against women, in order to create a proper atmosphere for victims to file complaints on such acts (Paraguay); ', '127.65 Intensify awareness-raising and educational campaigns to supplement current programmes aimed at empowering women, with a particular focus on identifying and countering discriminatory perceptions and actions or practices that could endanger the safety and security of women and girls (Philippines); ', '127.66 Adopt a national strategy to combat violence against women and to ensure equal participation of women in political and social life (Russian Federation); ', '127.67 Take further measures to improve transparency and clarification on its policies and measures to promote gender equality, especially with regard to the implementation of Act No. 2013-33 (Netherlands); ', '127.68 Continue working on the elaboration of its national human rights policy for its prompt implementation and take into account the constructive contributions arising from this review in the aforementioned policy (Nicaragua); ', '127.69 Strengthen the inclusive approach in the implementation of the national policy for the promotion and protection of Human Rights (Senegal); ', '127.70 Step up efforts to strengthen the process of national reconciliation (Congo); ', '127.71 Redouble its efforts to succeed in the national reconciliation process (Democratic Republic of the Congo); ', '127.72 Strengthen the action of the Dialogue, Truth and Reconciliation Commission in line with the National Programme on Social Cohesion (France); ', '127.73 Speed up the national reconciliation process, so as to consolidate the progress towards the enjoyment of human rights by its people, with the support of the international community (Mozambique); ', '127.74 Continue the dialogue and positive measures to foster national reconciliation and social cohesion (Senegal); ', '127.75 Continue the policy of national reconciliation and consider, if necessary, elaboration of further measures with a view to fostering the process of reconciliation (Slovakia); ', '127.76 Continue the process of national reconciliation (Algeria); ', '127.77 Continue its efforts to finalize the national reconciliation process so as to preserve the promotion and protection of human rights (Angola); ', '127.78 Ensure the participation of all political parties, civil society organizations and community leaders in the work of the Dialogue, Truth and Reconciliation Commission (Australia); ', '127.79 Continue its dialogue on the national reconciliation process through the work of the Dialogue, Truth and Reconciliation Commission by ensuring that the search for truth is a fundamental principle of the Commission, so that it produces recommendations for fair and unbiased actions, and adopt these recommendations at the earliest (Canada); ', '127.80 Redouble its efforts to reintegrate former combatants (Australia); ', '127.81 Continue its efforts to identify war victims and compensate the damages (Togo); ', '127.82 Take full use of technical assistance of the UN and Ivorian NGOs dealing with womenÕs rights to finalize the strategy and implement it accordingly, once adopted (Slovenia); ', '127.83 Continue to move forward through the adoption of all measures and policies that can achieve greater efficiency in the promotion and protection of human rights, and the promotion of the rule of law (Burundi); ', '127.84 Adopt a multiannual action plan to implement the National Policy on Human Rights, and the recommendations of the Human Rights Council, with an effective monitoring structure (Cabo Verde); ', '127.85 Implement the National Commission of Inquiry recommendations to ensure that those responsible for violations of human rights, from all parties are held accountable for their actions as soon as possible (Canada); ', '127.86 Strengthen the implementation of the recommendations of the International Commission on Access to Justice and Victims Assistance, and of those observations made by the Convention on the Elimination of All Forms of Discrimination against Women (Chile); ', '127.87 Extend the deadline for late registration of births and put in place a simple and free birth registration procedure as well as a national strategy to raise awareness on the importance of birth registration (Hungary); ', '127.88 Continue building its national capacities and implement its priorities as they were specified in its national report (United Arab Emirates); ', '127.89 Develop a comprehensive policy aimed at strengthening the judicial system, and rule of law (Botswana); ', '127.90 Continue the implementation of the national strategy to encourage women to stand for elections and elected positions (Algeria); ', '127.91 Submit its initial report to the Committee against Torture which is fifteen years overdue (Republic of Korea); ', '127.92 Submit its backlog of outstanding reports to the concerned treaty bodies (Sierra Leone); ', '127.93 Cooperate with the mandate holders of special procedures and treaty bodies (Chad); ', '127.94 Continue its cooperation with the treaty bodies and submit its outstanding reports (Togo); ', '127.95 Request the necessary aid and technical assistance to the international community, in particular to the United Nations bodies dealing with development, to support the initiatives of the National Development Plan (Morocco); ', '127.96 Pursue the reforms engaged for the protection of children and gender equality (Djibouti); ', '127.97 Make every effort to completely abolish all forms of discrimination against women (Burundi); ', '127.98 Speed up the process of identification of discriminatory provisions against women (Paraguay); ', '127.99 Continue its fight against discrimination against women (Bangladesh); ', '127.100 Strengthen measures to expand womenÕs access to land and to microfinance and microcredit at low interest rates (Egypt); ', '127.101 Double its efforts to enhance the enjoyment of women of their legitimate rights and protect them from all forms of violations (Sudan); ', '127.102 Take all necessary measures to further promote the rights of women and girls, including abolishing all discriminatory laws, implementing the national action plan to combat sexual violence and ending female genital mutilation (Brazil); ', '127.103 Take concrete measures to protect the rights of people with albinism, in accordance with the recommendations made by the Office of the High Commissioner, and raise awareness among society about their situation (Spain); ', '127.104 Adopt measures to stop aggressions and discrimination against persons suffering from albinism (Central African Republic); ', '127.105 Reduce overcrowding and improve physical situation of prisoners and administrative management in prisons (Spain); ', '127.106 Consider incorporating the UN Rules for the Treatment of Women Prisoners and Non-Custodial Measures for Women Offenders, otherwise known as the ÒBangkok RulesÓ, as part of its programme to enhance the condition of detainees in prisons (Thailand); ', '127.107 Refrain from arbitrary arrests and make every effort to bring detainees before a judge within the statutory deadline of 48 hours (Germany); ', '127.108 End all arbitrary detention and strengthen the capacity on the judicial system as addressed in the country report following the previous Universal Periodic Review (Norway); ', '127.109 Continue improving conditions of detention, notably through the separation of quarters of children, women and men in detention facilities where this has not been achieved yet (State of Palestine); ', '127.110 Continue to take measures to ensure in practice the protection of children against sale and trafficking, in accordance with Act No. 2010-272, and ensure that persons engaging in the sale and trafficking of children are prosecuted (Egypt); ', '127.111 Intensify the initiatives aimed at both preventing child and women trafficking, child labour, forced prostitution, and facilitating the social reintegration of the victims (Italy); ', '127.112 Take necessary measures to eliminate worst forms of child labour, specifically in mining, forced begging, and commercial sexual exploitation (United States of America); ', '127.113 Thoroughly investigate human rights violations perpetrated by all sides after the 2010 presidential elections and fully cooperate with the ICCÕs investigations (Czech Republic); ', '127.114 Ensure an equitable and impartial approach to the administration of justice so that all perpetrators responsible for violent crimes are held to account, irrespective of their political, tribal or religious background (Ireland); ', '127.115 Ensure that all those responsible for serious human rights abuses and violations of international humanitarian law are brought to justice in accordance with its international obligations (Israel); ', '127.116 Ensure that all the initiatives taken in the field of reconciliation comply with international standards on human rights, beginning with a comprehensive fight against impunity (Italy); ', '127.117 Promote national reconciliation by investigating crimes, accountability measures and reparation for victims (Mexico); ', '127.118 Reinforce the judicial system which ensures that serious human rights perpetrators are brought to justice (Republic of Korea); ', '127.119 Strengthen mechanisms which facilitate access to justice for victims of atrocities including sexual violence (Sierra Leone); ', '127.120 Continue to undertake measures to enhance the rule of law to protect the rights of its people (Singapore); ', '127.121 Prosecute all presumed perpetrators of human rights violations (Switzerland); ', '127.122 Continue efforts initiated in order to prosecute all perpetrators of serious human rights violations and provide assistance to victims (Argentina); ', '127.123 Ensure fair and rapid justice for all perpetrators of human rights violations (Burkina Faso); ', '127.124 Strengthen the judiciary and police bodies for the prevention of sexual violence, in particular through increasing the number of women and their visibility in the police and the justice system (Portugal); ', '127.125 Strengthen awareness campaigns on the harmful consequences of female genital mutilation and bring all excision practitioners to justice (Hungary); ', '127.126 Thoroughly investigate all allegations of sexual violence and bring perpetrators of such crimes to justice, in accordance with international standards, as recommended previously in 2009 (Sweden); ', '127.127 Undertake all necessary measures to end impunity for sexual violence by investigating all allegations of sexual violence and to prosecute individuals against whom there is sufficient evidence of such abuses (the former Yugoslav Republic of Macedonia); ', '127.128 Guarantee to women effective access to the courts and strengthen assistance and support to victims (Argentina); ', '127.129 Develop a comprehensive policy aimed at strengthening the judicial system, focusing on the effective access to justice for women (Israel); ', '127.130 Take measures to facilitate access to justice for victims of sexual violence, such as by issuing the medical certificates necessary to lodge complaints for sexual violence (Belgium); ', '127.131 Improve access to legal assistance and ensure compensation for victims, especially female victims of sexual violence (Burkina Faso); ', '127.132 Work towards fostering the independence of the Judiciary and reducing the number of people in pretrial detention without substantiated charges (Brazil); ', '127.133 Engage without any delay to prosecute all those who have committed serious violations of human rights, in particular during the post-electoral crisis in 2010, without any consideration of their ethnic, religious or political status (Luxembourg); ', '127.134 Step up their efforts and undertake credible investigations and prosecutions against members of both sides of the post-electoral conflict, including the security forces, thus contributing to the end of impunity (Slovenia); ', '127.135 Take appropriate measures to expedite the ongoing legal proceedings against supporters of former President Laurent Gbagbo, and investigate and punish, when appropriate, crimes committed by the forces of President Ouattara (Spain); ', '127.136 Continue to fight impunity by pursuing crimes that occurred during or in conjunction with the post-electoral conflict and previous conflicts in the country, regardless of which side in the conflicts the perpetrators belonged to. This includes continuing cooperation with the International Criminal Court (Sweden); ', '127.137 Implement the report of the National Inquiry Commission and the commitments taken to fight against impunity, by prosecuting the presumed perpetrators of human rights abuses during the post-electoral crisis regardless of their political affiliation (France); ', '127.138 Expedite its fight against impunity and prosecute the perpetrators of serious violations of human rights committed during the post-electoral crisis (Turkey); ', '127.139 Ensure that all parties responsible for the post-election crimes of 2010 be brought to justice regardless of their political affiliation (United Kingdom of Great Britain and Northern Ireland); ', '127.140 Develop a comprehensive transitional justice strategy that will encompass accountability, reparations, security sector reform and judicial reform ahead of the presidential elections in October 2015 (United Kingdom of Great Britain and Northern Ireland); ', '127.141 Investigate, and when appropriate, prosecute perpetrators of serious crimes, including abuses perpetrated by both sides of the post-election violence, on a non-discriminatory basis and regardless of their ethnic, religious, or political affiliations, to promote national reconciliation and the rule of law (United States of America); ', '127.142 Continue to prioritize the investigation and prosecution of serious international crimes regardless of political affiliation and cooperate with the International Criminal Court in this regard (Australia); ', '127.143 Take concrete steps to combat impunity with respect to human rights abuses committed by security forces, including dozos, by increasing governmental oversight of their operations, investigating credible allegations, and prosecuting cases where appropriate (United States of America); ', '127.144 Improve local administrative and judicial mechanisms to recover lands in the shortest possible time (Spain); ', '127.145 Give priority to resolving conflicts related to land tenure (Burkina Faso); ', '127.146 Adopt measures to ensure open and free campaign before the 2015 presidential elections, grant the opposition representatives access to all State-controlled media, and promote work of all journalists (Czech Republic); ', '127.147 Leave no stone unturned to address all outstanding electoral reform issues to guarantee free and fair elections in 2015 (Ghana); ', '127.148 Spare no efforts in creating conditions conducive to the peaceful and democratically credible holding of the 2015 presidential elections, in particular by convening a solid voter registration process reforming as necessary the National Election Commission (Indonesia); ', '127.149 Take the adequate measures to enlarge the space allocated to civil society (Djibouti); ', '127.150 Step up its efforts to protect civil society space within the country (Italy); ', '127.151 Pursue efforts to improve the living conditions of women, notably through measures aimed at encouraging women to stand for elective office and to seek public appointments, as well as through measures aimed at facilitating womenÕs access to credit, land, and to basic health services (State of Palestine); ', '127.152 Continue the efforts to facilitate the registration of births and create awareness of the importance of this procedure, which allows access to all other rights and basic services such as education and health (Turkey); ', '127.153 Conduct awareness campaigns to promote birth registration of all children and take the necessary measures to ensure easy and effective access to free birth registration for the newborn (Mexico); ', '127.154 Continue ongoing efforts to reduce the rates of maternal mortality (Egypt); ', '127.155 Strengthen efforts to reduce the incidence of maternal mortality (South Africa); ', '127.156 Take concrete measures to improve victim assistance, including health and psychosocial help, to victims of sexual violence and rape, also by providing free medical certificates to rape survivors, since this for most victims unaffordable document is deemed crucial in the course of any pursued investigations (Slovenia); ', '127.157 Remove any obstruction of the right to justice for victims of sexual violence and provide them with effective treatments (Spain); ', '127.158 Share experience with states within the region and benefit from their experiences in combating female genital mutilation (South Sudan); ', '127.159 Continue effectively the fight against female genital mutilation (Togo); ', '127.160 Continue efforts to sensitize public officials on the respect for womenÕs rights, in particular the fight against female genital mutilation (Bolivia (Plurinational State of)); ', '127.161 Continue its efforts in the social field, in particular for those most in need, especially in the field of nutrition, health and education (Venezuela (Bolivarian Republic of)); ', '127.162 Increase its efforts through targeted and comprehensive measures, especially in education, in order to eliminate traditional harmful practices, such as FGM and early and forced marriage (Italy); ', '127.163 Continue and strengthen efforts to provide quality education for all, especially free primary education for children and education for persons with disabilities (Maldives); ', '127.164 With support from UNESCO and ILO, continue to strengthen its education system and vocational training especially for youth (Singapore); ', '127.165 Continue current efforts to provide every child with good quality basic education (Egypt); ', '127.166 Urge to take measures for the introduction of specific modules on human rights at all levels of education, and to continue its cooperation with international and regional human rights mechanisms, boost the national framework of humanitarian consultation created by the decree of 23 January 2013 and to strengthen the role of NGOsÕ interface and civil society (Burkina Faso); ', '127.167 Continue to create the conditions to facilitate the voluntary reparation of Ivorian refugees in accordance with the Tripartite Agreement (Ghana); ', '127.168 Adopt additional measures that tend to develop a comprehensive strategy that tends to address the needs of IDPs and provide sustainable solutions (Argentina); ', '127.169 Strengthen monitoring and supervision by relevant environmental agencies in order to ensure that toxic waste is treated in an environmentally sound manner (Egypt); ', '127.170 Intensify efforts to meet the Millennium Development Goals within the remaining period (Ethiopia); ', '127.171 Continue, with the assistance of the international community, to implement its plans for economic and social development and further reduce poverty so as to lay a firm foundation for improving peoplesÕ livelihood (China); ', '127.172 Strengthen measures taken to fight poverty and unemployment, including through the intensified implementation of programmes in the National Development Plan for 2012Ð2015 in order to combat poverty and foster development (Ethiopia); ', '127.173 Continue its efforts on poverty reduction (Cuba); ', '127.174 Continue its fight against poverty with international communityÕs support (Bangladesh); ', '127.175 Continue to consolidate efforts to combat extreme poverty and improve the economic situation in the country, while ensuring that marginalized sectors, including persons with disabilities and migrants, are given equal and fair access to labour opportunities (Philippines); ', '127.176 Work towards the effective implementation of the national development plan that was adopted in March 2012 in its six points (Sudan); ', '127.177 Redouble actions to improve the compliance with the human right to water (Bolivia (Plurinational State of)); ', '127.178 Consider the promotion and protection of the rights of peasants and other people working in rural areas (Bolivia (Plurinational State of)). '], ['128.1 Ratify the Kampala amendments to the Rome Statute, if possible with a view to contributing to the activation of the jurisdiction of the ICC over the crime of aggression at the beginning of 2017 (Liechtenstein); ', '128.2 Consider ratification of the Optional Protocol to the Convention on the Rights of the Child on a communications procedure (Slovakia) as a matter of priority (Thailand); ', '128.3 Fulfil its obligations in accordance with CAT, immediately submit its overdue initial national report to the Committee against Torture and include a specific individual offence criminalizing acts of torture as well as a definition of torture in the national legislation (Czech Republic); ', '128.4 Consider extending a standing invitation to all the special procedures mandate holders of the Human Rights Council (Latvia); ', '128.5 Extend a standing invitation to all Human Rights Council special procedures (Montenegro, Portugal, Republic of Korea); ', '128.6 Better protect LGBTI persons and persons with AIDS against any act of discrimination and violence and review its legislation in this context (Switzerland). '], ['129.1 Take further steps to prevent discrimination on the grounds of gender identity and sexual orientation and to raise awareness on its consequences (Netherlands); ', '129.2 Conduct such specific awareness-raising campaigns which can help to sensitize the general Ivorian public regarding the rights of LGBTI persons (Slovenia). '])\n"
     ]
    }
   ],
   "source": [
    "def parse_rec(recs):\n",
    "    \n",
    "    #Extract section numbers\n",
    "    paragraph1 = int(recs[0].split(\".\")[0])\n",
    "    paragraph2 = paragraph1 + 1\n",
    "    paragraph3 = paragraph1 + 2\n",
    "    \n",
    "    #Sort text into categories: accept, reject, examine\n",
    "    accept = []\n",
    "    reject = []\n",
    "    examine = []\n",
    "    \n",
    "    for i in recs:\n",
    "        if i.startswith(str(paragraph1)):\n",
    "            accept.append(i)\n",
    "        elif i.startswith(str(paragraph2)):\n",
    "            examine.append(i)\n",
    "        elif i.startswith(str(paragraph3)):\n",
    "            reject.append(i)\n",
    "    \n",
    "    accept_recs = accept[1:]\n",
    "    reject_recs = reject[1:]\n",
    "    examine_recs = examine[1:]\n",
    "    \n",
    "    #Create output tuple\n",
    "    #tuple(accept_recs)\n",
    "    #tuple(reject_recs)\n",
    "    #tuple(examine_recs)\n",
    "    \n",
    "    return (accept_recs, examine_recs, reject_recs)\n",
    "\n",
    "print(parse_rec(recs))"
   ]
  },
  {
   "cell_type": "markdown",
   "metadata": {},
   "source": [
    "## 3. Get Recommending Country\n",
    "\n",
    "**skills**\n",
    "\n",
    "- string methods\n",
    "- indexing\n",
    "- functions\n",
    "\n",
    "**task**\n",
    "- extract the substring representing the recommending country."
   ]
  },
  {
   "cell_type": "markdown",
   "metadata": {},
   "source": [
    "### 3.1 Extracting the Country\n",
    "\n",
    "Take a look at several recommendations to get an idea of their format. I've given you several samples below."
   ]
  },
  {
   "cell_type": "code",
   "execution_count": null,
   "metadata": {},
   "outputs": [],
   "source": [
    "for cur_rec in accept_recs[:5]: \n",
    "    print(cur_rec)"
   ]
  },
  {
   "cell_type": "markdown",
   "metadata": {},
   "source": [
    "Notice that they're all formatted the same way, with the recommending country in parenthesis at the end, in between parentheses.\n",
    "\n",
    "Using your string skills, find a way to pull out the recommending country from the first recommendation (stored in `first_rec` below)."
   ]
  },
  {
   "cell_type": "code",
   "execution_count": null,
   "metadata": {},
   "outputs": [],
   "source": [
    "first_rec = accept_recs[0]"
   ]
  },
  {
   "cell_type": "code",
   "execution_count": null,
   "metadata": {},
   "outputs": [],
   "source": [
    "# FILL ME OUT"
   ]
  },
  {
   "cell_type": "markdown",
   "metadata": {},
   "source": [
    "### 3.2 Create a Function\n",
    "\n",
    "Using the code you just wrote, create a function called `get_country` that passes an individual recommendation and returns the recommending country"
   ]
  },
  {
   "cell_type": "code",
   "execution_count": 68,
   "metadata": {},
   "outputs": [],
   "source": [
    "def get_country(rec):\n",
    "    \n",
    "    rec_after_paran = rec.split('(')[-1]\n",
    "    rec_country = rec_after_paran.split(')')[0]\n",
    "    \n",
    "    return(rec_country)"
   ]
  },
  {
   "cell_type": "code",
   "execution_count": null,
   "metadata": {},
   "outputs": [],
   "source": [
    "# test your code\n",
    "get_country(first_rec)"
   ]
  },
  {
   "cell_type": "markdown",
   "metadata": {},
   "source": [
    "## 4. Processing all Recommendations\n",
    "\n",
    "**task**:\n",
    "\n",
    "We now want to create a new list for each variable we eventually want in our output csv file. Each list will contain a single value per individual recommendation. The five variables we want a list for are: \n",
    "\n",
    "1. `to`: the country under review\n",
    "2. `from`: the country (or countries) giving the recommendation\n",
    "3. `year`: the year of the review (all 2014 here)\n",
    "4. `decision`: whether the recommendation was supported, rejected, etc.\n",
    "5. `text`: the text of the recommendation\n",
    "\n",
    "To make it easier to store these data (and later to write it out to a csv file), we'll create a dictionary with an empty list for each of these variable names.\n",
    "\n",
    "**skills**:\n",
    "- loops\n",
    "- dictionaries"
   ]
  },
  {
   "cell_type": "code",
   "execution_count": null,
   "metadata": {},
   "outputs": [],
   "source": [
    "rec_output = {'to':[],\n",
    "              'from':[],\n",
    "              'year':[],\n",
    "              'decision':[],\n",
    "              'text':[]}"
   ]
  },
  {
   "cell_type": "markdown",
   "metadata": {},
   "source": [
    "### 4.1 Process the `accept` Recommendations\n",
    "\n",
    "The code below loops through all the recommentations in the `accept` list and appends an item to each of the 5 lists within the dictionary defined above. Fill in the blanks to complete the code.\n",
    "\n",
    "(Remember we've already created the `country` and `year` variables above!)"
   ]
  },
  {
   "cell_type": "code",
   "execution_count": null,
   "metadata": {},
   "outputs": [],
   "source": [
    "# FILL ME OUT"
   ]
  },
  {
   "cell_type": "markdown",
   "metadata": {},
   "source": [
    "### 4.2 Make a function \n",
    "\n",
    "Now write a function that does the same for any list of recommendations. It should first create an output dictionary and then populate that dictionary. Think about all the parameters that the function should take in order to fill in all 5 fields of the `rec_output` dictionary. "
   ]
  },
  {
   "cell_type": "code",
   "execution_count": 69,
   "metadata": {},
   "outputs": [],
   "source": [
    "def process_rec(recs, to_country, year, decision_type):\n",
    "    # Create the output dictionary\n",
    "    output = {'to':[],\n",
    "              'from':[],\n",
    "              'year':[],\n",
    "              'decision':[],\n",
    "              'text':[]}\n",
    "    \n",
    "    # loop over the recommendations and fill the output dictionary's lists\n",
    "    for rec in recs:\n",
    "        output['to'].append(to_country)\n",
    "        output['from'].append(get_country(rec))\n",
    "        output['year'].append(year)\n",
    "        output['decision'].append(decision_type)\n",
    "        output['text'].append(rec)\n",
    "        \n",
    "    return output"
   ]
  },
  {
   "cell_type": "markdown",
   "metadata": {
    "collapsed": true
   },
   "source": [
    "### 4.3 Process all the Recommendations\n",
    "\n",
    "Now use the function that you just wrote to process the recommendations from the `accept` the `examine` and `reject` recommendation lists."
   ]
  },
  {
   "cell_type": "code",
   "execution_count": null,
   "metadata": {},
   "outputs": [],
   "source": [
    "# FILL ME OUT\n",
    "\n",
    "# uncomment to test your code\n",
    "# print(len(rec_output['to']))"
   ]
  },
  {
   "cell_type": "markdown",
   "metadata": {},
   "source": [
    " ### 4.4 Combine output dictionaries\n",
    " \n",
    "Now let's write a function that takes a list of output recommendation dictionaries and creates a new one that is the combination of all of them. "
   ]
  },
  {
   "cell_type": "code",
   "execution_count": 70,
   "metadata": {},
   "outputs": [],
   "source": [
    "def combine_outputs(dicts):\n",
    "    # create a new dictionary to contain the combined values of all the dictionaries\n",
    "    output = {'to':[],\n",
    "              'from':[],\n",
    "              'year':[],\n",
    "              'decision':[],\n",
    "              'text':[]}\n",
    "    \n",
    "    # Loop over all the input dictionaries\n",
    "    for cur_dict in dicts:        \n",
    "        # loop over all the keys in the output dictionary\n",
    "        for cur_key in output.keys():\n",
    "            # extend the list which is the value of the current key using the list from the current dictionary\n",
    "            cur_keys_list = cur_dict[cur_key]\n",
    "            output[cur_key].extend(cur_keys_list)\n",
    "\n",
    "    return output"
   ]
  },
  {
   "cell_type": "markdown",
   "metadata": {},
   "source": [
    "Now combine the output dictionaries for the accept, examine, and reject recommendations into a single output dictionary"
   ]
  },
  {
   "cell_type": "code",
   "execution_count": null,
   "metadata": {},
   "outputs": [],
   "source": [
    "# FILL IN THE BELOW LINE TO USE THE combine_outputs FUNCTION FROM ABOVE\n",
    "output_recs = ...\n",
    "\n",
    "# uncomment to test your code\n",
    "# print(len(accept_recs) + len(examine_recs) + len(reject_recs))\n",
    "# print(len(output_recs['to']))"
   ]
  },
  {
   "cell_type": "markdown",
   "metadata": {},
   "source": [
    "# PART B: Repeat for all documents\n",
    "\n",
    "We just wrote code that takes one document and turns it into a dataset!\n",
    "\n",
    "The problem is we have 11 documents!\n",
    "\n",
    "We'll now combine the code we've written so far to create a function that can read one document at a time, and then read all 11 documents into a single dataset."
   ]
  },
  {
   "cell_type": "markdown",
   "metadata": {},
   "source": [
    "## 5. Make a function\n",
    "\n",
    "**task**\n",
    "\n",
    "Combine the functions that you wrote above to create a single function that takes a filename as a parameter and returns a dictionary of lists representing all of the recommendations in that document.\n",
    "\n",
    "**skills**\n",
    "- Functions\n",
    "- Copying and pasting :)"
   ]
  },
  {
   "cell_type": "code",
   "execution_count": 84,
   "metadata": {},
   "outputs": [],
   "source": [
    "def process_document(filename):\n",
    "\n",
    "    #Read in recs\n",
    "    recs = read_rec(filename)\n",
    "    \n",
    "    #Parse recs\n",
    "    accept_recs, examine_recs, reject_recs = parse_rec(recs)\n",
    "    \n",
    "    #Extract country\n",
    "    country = filename[:-8]\n",
    "\n",
    "    #Create dictionaries for each type of recommendation\n",
    "    output_accept = process_rec(accept_recs, country, year, 'accept')\n",
    "    output_examine = process_rec(examine_recs, country, year, 'examine')\n",
    "    output_reject = process_rec(reject_recs, country, year, 'reject')\n",
    "\n",
    "    #Create output list\n",
    "    output_recs = combine_outputs([output_accept, output_examine, output_reject])\n",
    "\n",
    "    return(output_recs)\n"
   ]
  },
  {
   "cell_type": "code",
   "execution_count": 85,
   "metadata": {},
   "outputs": [
    {
     "ename": "AttributeError",
     "evalue": "'list' object has no attribute 'split'",
     "output_type": "error",
     "traceback": [
      "\u001b[1;31m---------------------------------------------------------------------------\u001b[0m",
      "\u001b[1;31mAttributeError\u001b[0m                            Traceback (most recent call last)",
      "\u001b[1;32m<ipython-input-85-9d59e4a049cd>\u001b[0m in \u001b[0;36m<module>\u001b[1;34m\u001b[0m\n\u001b[0;32m      1\u001b[0m \u001b[1;31m# test your code!\u001b[0m\u001b[1;33m\u001b[0m\u001b[1;33m\u001b[0m\u001b[1;33m\u001b[0m\u001b[0m\n\u001b[1;32m----> 2\u001b[1;33m \u001b[0mprint\u001b[0m\u001b[1;33m(\u001b[0m\u001b[0mlen\u001b[0m\u001b[1;33m(\u001b[0m\u001b[0mprocess_document\u001b[0m\u001b[1;33m(\u001b[0m\u001b[1;34m\"tuvalu2013.txt\"\u001b[0m\u001b[1;33m)\u001b[0m\u001b[1;33m[\u001b[0m\u001b[1;34m'to'\u001b[0m\u001b[1;33m]\u001b[0m\u001b[1;33m)\u001b[0m\u001b[1;33m)\u001b[0m\u001b[1;33m\u001b[0m\u001b[1;33m\u001b[0m\u001b[0m\n\u001b[0m",
      "\u001b[1;32m<ipython-input-84-4d027f4ffa1d>\u001b[0m in \u001b[0;36mprocess_document\u001b[1;34m(filename)\u001b[0m\n\u001b[0;32m     13\u001b[0m \u001b[1;33m\u001b[0m\u001b[0m\n\u001b[0;32m     14\u001b[0m     \u001b[1;31m#Create dictionaries for each type of recommendation\u001b[0m\u001b[1;33m\u001b[0m\u001b[1;33m\u001b[0m\u001b[1;33m\u001b[0m\u001b[0m\n\u001b[1;32m---> 15\u001b[1;33m     \u001b[0moutput_accept\u001b[0m \u001b[1;33m=\u001b[0m \u001b[0mprocess_rec\u001b[0m\u001b[1;33m(\u001b[0m\u001b[0maccept_recs\u001b[0m\u001b[1;33m,\u001b[0m \u001b[0mcountry\u001b[0m\u001b[1;33m,\u001b[0m \u001b[0myear\u001b[0m\u001b[1;33m,\u001b[0m \u001b[1;34m'accept'\u001b[0m\u001b[1;33m)\u001b[0m\u001b[1;33m\u001b[0m\u001b[1;33m\u001b[0m\u001b[0m\n\u001b[0m\u001b[0;32m     16\u001b[0m     \u001b[0moutput_examine\u001b[0m \u001b[1;33m=\u001b[0m \u001b[0mprocess_rec\u001b[0m\u001b[1;33m(\u001b[0m\u001b[0mexamine_recs\u001b[0m\u001b[1;33m,\u001b[0m \u001b[0mcountry\u001b[0m\u001b[1;33m,\u001b[0m \u001b[0myear\u001b[0m\u001b[1;33m,\u001b[0m \u001b[1;34m'examine'\u001b[0m\u001b[1;33m)\u001b[0m\u001b[1;33m\u001b[0m\u001b[1;33m\u001b[0m\u001b[0m\n\u001b[0;32m     17\u001b[0m     \u001b[0moutput_reject\u001b[0m \u001b[1;33m=\u001b[0m \u001b[0mprocess_rec\u001b[0m\u001b[1;33m(\u001b[0m\u001b[0mreject_recs\u001b[0m\u001b[1;33m,\u001b[0m \u001b[0mcountry\u001b[0m\u001b[1;33m,\u001b[0m \u001b[0myear\u001b[0m\u001b[1;33m,\u001b[0m \u001b[1;34m'reject'\u001b[0m\u001b[1;33m)\u001b[0m\u001b[1;33m\u001b[0m\u001b[1;33m\u001b[0m\u001b[0m\n",
      "\u001b[1;32m<ipython-input-69-ed293bc8e6da>\u001b[0m in \u001b[0;36mprocess_rec\u001b[1;34m(recs, to_country, year, decision_type)\u001b[0m\n\u001b[0;32m     10\u001b[0m     \u001b[1;32mfor\u001b[0m \u001b[0mrec\u001b[0m \u001b[1;32min\u001b[0m \u001b[0mrecs\u001b[0m\u001b[1;33m:\u001b[0m\u001b[1;33m\u001b[0m\u001b[1;33m\u001b[0m\u001b[0m\n\u001b[0;32m     11\u001b[0m         \u001b[0moutput\u001b[0m\u001b[1;33m[\u001b[0m\u001b[1;34m'to'\u001b[0m\u001b[1;33m]\u001b[0m\u001b[1;33m.\u001b[0m\u001b[0mappend\u001b[0m\u001b[1;33m(\u001b[0m\u001b[0mto_country\u001b[0m\u001b[1;33m)\u001b[0m\u001b[1;33m\u001b[0m\u001b[1;33m\u001b[0m\u001b[0m\n\u001b[1;32m---> 12\u001b[1;33m         \u001b[0moutput\u001b[0m\u001b[1;33m[\u001b[0m\u001b[1;34m'from'\u001b[0m\u001b[1;33m]\u001b[0m\u001b[1;33m.\u001b[0m\u001b[0mappend\u001b[0m\u001b[1;33m(\u001b[0m\u001b[0mget_country\u001b[0m\u001b[1;33m(\u001b[0m\u001b[0mrec\u001b[0m\u001b[1;33m)\u001b[0m\u001b[1;33m)\u001b[0m\u001b[1;33m\u001b[0m\u001b[1;33m\u001b[0m\u001b[0m\n\u001b[0m\u001b[0;32m     13\u001b[0m         \u001b[0moutput\u001b[0m\u001b[1;33m[\u001b[0m\u001b[1;34m'year'\u001b[0m\u001b[1;33m]\u001b[0m\u001b[1;33m.\u001b[0m\u001b[0mappend\u001b[0m\u001b[1;33m(\u001b[0m\u001b[0myear\u001b[0m\u001b[1;33m)\u001b[0m\u001b[1;33m\u001b[0m\u001b[1;33m\u001b[0m\u001b[0m\n\u001b[0;32m     14\u001b[0m         \u001b[0moutput\u001b[0m\u001b[1;33m[\u001b[0m\u001b[1;34m'decision'\u001b[0m\u001b[1;33m]\u001b[0m\u001b[1;33m.\u001b[0m\u001b[0mappend\u001b[0m\u001b[1;33m(\u001b[0m\u001b[0mdecision_type\u001b[0m\u001b[1;33m)\u001b[0m\u001b[1;33m\u001b[0m\u001b[1;33m\u001b[0m\u001b[0m\n",
      "\u001b[1;32m<ipython-input-68-6dbbf79961f0>\u001b[0m in \u001b[0;36mget_country\u001b[1;34m(rec)\u001b[0m\n\u001b[0;32m      1\u001b[0m \u001b[1;32mdef\u001b[0m \u001b[0mget_country\u001b[0m\u001b[1;33m(\u001b[0m\u001b[0mrec\u001b[0m\u001b[1;33m)\u001b[0m\u001b[1;33m:\u001b[0m\u001b[1;33m\u001b[0m\u001b[1;33m\u001b[0m\u001b[0m\n\u001b[0;32m      2\u001b[0m \u001b[1;33m\u001b[0m\u001b[0m\n\u001b[1;32m----> 3\u001b[1;33m     \u001b[0mrec_after_paran\u001b[0m \u001b[1;33m=\u001b[0m \u001b[0mrec\u001b[0m\u001b[1;33m.\u001b[0m\u001b[0msplit\u001b[0m\u001b[1;33m(\u001b[0m\u001b[1;34m'('\u001b[0m\u001b[1;33m)\u001b[0m\u001b[1;33m[\u001b[0m\u001b[1;33m-\u001b[0m\u001b[1;36m1\u001b[0m\u001b[1;33m]\u001b[0m\u001b[1;33m\u001b[0m\u001b[1;33m\u001b[0m\u001b[0m\n\u001b[0m\u001b[0;32m      4\u001b[0m     \u001b[0mrec_country\u001b[0m \u001b[1;33m=\u001b[0m \u001b[0mrec_after_paran\u001b[0m\u001b[1;33m.\u001b[0m\u001b[0msplit\u001b[0m\u001b[1;33m(\u001b[0m\u001b[1;34m')'\u001b[0m\u001b[1;33m)\u001b[0m\u001b[1;33m[\u001b[0m\u001b[1;36m0\u001b[0m\u001b[1;33m]\u001b[0m\u001b[1;33m\u001b[0m\u001b[1;33m\u001b[0m\u001b[0m\n\u001b[0;32m      5\u001b[0m \u001b[1;33m\u001b[0m\u001b[0m\n",
      "\u001b[1;31mAttributeError\u001b[0m: 'list' object has no attribute 'split'"
     ]
    }
   ],
   "source": [
    "# test your code!\n",
    "print(len(process_document(\"tuvalu2013.txt\")['to']))"
   ]
  },
  {
   "cell_type": "markdown",
   "metadata": {},
   "source": [
    "## 6. Process all of the files\n",
    "\n",
    "**task**\n",
    "\n",
    "1. Find the file_names in our directory.\n",
    "2. Apply the function above to all the filenames\n",
    "3. Create a master dataset\n",
    "\n",
    "**skills**\n",
    "- I/O\n",
    "- Loops\n",
    "- Functions"
   ]
  },
  {
   "cell_type": "markdown",
   "metadata": {},
   "source": [
    "### 6.1 Make a list of file_names\n",
    "\n",
    "The program below reads all the file_names in the directory `data/txts`."
   ]
  },
  {
   "cell_type": "code",
   "execution_count": 86,
   "metadata": {},
   "outputs": [
    {
     "name": "stdout",
     "output_type": "stream",
     "text": [
      "afghanistan2014.txt\n",
      "bangladesh2013.txt\n",
      "cotedivoire2014.txt\n",
      "djibouti2013.txt\n",
      "fiji2014.txt\n",
      "jordan2013.txt\n",
      "kazakhstan2014.txt\n",
      "monaco2013.txt\n",
      "sanmarino2014.txt\n",
      "turkmenistan2013.txt\n",
      "tuvalu2013.txt\n"
     ]
    }
   ],
   "source": [
    "import os\n",
    "\n",
    "directory = './data/txts'\n",
    "\n",
    "for file_name in os.listdir(directory):\n",
    "   print(file_name)"
   ]
  },
  {
   "cell_type": "markdown",
   "metadata": {},
   "source": [
    "Modify the program to include only the file_names that end in `.txt` by using a string method.\n",
    "\n",
    "**hint:** We used the `.startswith()` method earlier. What do you think could work here?"
   ]
  },
  {
   "cell_type": "code",
   "execution_count": 87,
   "metadata": {},
   "outputs": [
    {
     "name": "stdout",
     "output_type": "stream",
     "text": [
      "afghanistan2014.txt\n",
      "bangladesh2013.txt\n",
      "cotedivoire2014.txt\n",
      "djibouti2013.txt\n",
      "fiji2014.txt\n",
      "jordan2013.txt\n",
      "kazakhstan2014.txt\n",
      "monaco2013.txt\n",
      "sanmarino2014.txt\n",
      "turkmenistan2013.txt\n",
      "tuvalu2013.txt\n"
     ]
    }
   ],
   "source": [
    "directory = 'data/txts'\n",
    "\n",
    "for file_name in os.listdir(directory):\n",
    "\n",
    "    if file_name.endswith(\".txt\"):\n",
    "        print(file_name)"
   ]
  },
  {
   "cell_type": "markdown",
   "metadata": {},
   "source": [
    "## 6.2 Process all the documents\n",
    "\n",
    "Fill in the blanks below to process all the documents.\n",
    "\n",
    "In the last line we put the recommendations from one document into a list called `output_recs` which will hold the recommendations for all of the documents. We then need to combine all the output dictionaries from all the documents. We've written a function to do this already, which one was it? "
   ]
  },
  {
   "cell_type": "code",
   "execution_count": 88,
   "metadata": {},
   "outputs": [
    {
     "ename": "AttributeError",
     "evalue": "'list' object has no attribute 'split'",
     "output_type": "error",
     "traceback": [
      "\u001b[1;31m---------------------------------------------------------------------------\u001b[0m",
      "\u001b[1;31mAttributeError\u001b[0m                            Traceback (most recent call last)",
      "\u001b[1;32m<ipython-input-88-4d4a82ea6566>\u001b[0m in \u001b[0;36m<module>\u001b[1;34m\u001b[0m\n\u001b[0;32m      4\u001b[0m \u001b[1;33m\u001b[0m\u001b[0m\n\u001b[0;32m      5\u001b[0m     \u001b[1;32mif\u001b[0m \u001b[0mfilename\u001b[0m\u001b[1;33m.\u001b[0m\u001b[0mendswith\u001b[0m\u001b[1;33m(\u001b[0m\u001b[1;34m\".txt\"\u001b[0m\u001b[1;33m)\u001b[0m\u001b[1;33m:\u001b[0m\u001b[1;33m\u001b[0m\u001b[1;33m\u001b[0m\u001b[0m\n\u001b[1;32m----> 6\u001b[1;33m         \u001b[0mcur_output_recs\u001b[0m \u001b[1;33m=\u001b[0m \u001b[0mprocess_document\u001b[0m\u001b[1;33m(\u001b[0m\u001b[0mfilename\u001b[0m\u001b[1;33m)\u001b[0m\u001b[1;33m\u001b[0m\u001b[1;33m\u001b[0m\u001b[0m\n\u001b[0m\u001b[0;32m      7\u001b[0m         \u001b[0moutput_recs\u001b[0m\u001b[1;33m.\u001b[0m\u001b[0mappend\u001b[0m\u001b[1;33m(\u001b[0m\u001b[0mcur_output_recs\u001b[0m\u001b[1;33m)\u001b[0m\u001b[1;33m\u001b[0m\u001b[1;33m\u001b[0m\u001b[0m\n\u001b[0;32m      8\u001b[0m \u001b[1;33m\u001b[0m\u001b[0m\n",
      "\u001b[1;32m<ipython-input-84-4d027f4ffa1d>\u001b[0m in \u001b[0;36mprocess_document\u001b[1;34m(filename)\u001b[0m\n\u001b[0;32m     13\u001b[0m \u001b[1;33m\u001b[0m\u001b[0m\n\u001b[0;32m     14\u001b[0m     \u001b[1;31m#Create dictionaries for each type of recommendation\u001b[0m\u001b[1;33m\u001b[0m\u001b[1;33m\u001b[0m\u001b[1;33m\u001b[0m\u001b[0m\n\u001b[1;32m---> 15\u001b[1;33m     \u001b[0moutput_accept\u001b[0m \u001b[1;33m=\u001b[0m \u001b[0mprocess_rec\u001b[0m\u001b[1;33m(\u001b[0m\u001b[0maccept_recs\u001b[0m\u001b[1;33m,\u001b[0m \u001b[0mcountry\u001b[0m\u001b[1;33m,\u001b[0m \u001b[0myear\u001b[0m\u001b[1;33m,\u001b[0m \u001b[1;34m'accept'\u001b[0m\u001b[1;33m)\u001b[0m\u001b[1;33m\u001b[0m\u001b[1;33m\u001b[0m\u001b[0m\n\u001b[0m\u001b[0;32m     16\u001b[0m     \u001b[0moutput_examine\u001b[0m \u001b[1;33m=\u001b[0m \u001b[0mprocess_rec\u001b[0m\u001b[1;33m(\u001b[0m\u001b[0mexamine_recs\u001b[0m\u001b[1;33m,\u001b[0m \u001b[0mcountry\u001b[0m\u001b[1;33m,\u001b[0m \u001b[0myear\u001b[0m\u001b[1;33m,\u001b[0m \u001b[1;34m'examine'\u001b[0m\u001b[1;33m)\u001b[0m\u001b[1;33m\u001b[0m\u001b[1;33m\u001b[0m\u001b[0m\n\u001b[0;32m     17\u001b[0m     \u001b[0moutput_reject\u001b[0m \u001b[1;33m=\u001b[0m \u001b[0mprocess_rec\u001b[0m\u001b[1;33m(\u001b[0m\u001b[0mreject_recs\u001b[0m\u001b[1;33m,\u001b[0m \u001b[0mcountry\u001b[0m\u001b[1;33m,\u001b[0m \u001b[0myear\u001b[0m\u001b[1;33m,\u001b[0m \u001b[1;34m'reject'\u001b[0m\u001b[1;33m)\u001b[0m\u001b[1;33m\u001b[0m\u001b[1;33m\u001b[0m\u001b[0m\n",
      "\u001b[1;32m<ipython-input-69-ed293bc8e6da>\u001b[0m in \u001b[0;36mprocess_rec\u001b[1;34m(recs, to_country, year, decision_type)\u001b[0m\n\u001b[0;32m     10\u001b[0m     \u001b[1;32mfor\u001b[0m \u001b[0mrec\u001b[0m \u001b[1;32min\u001b[0m \u001b[0mrecs\u001b[0m\u001b[1;33m:\u001b[0m\u001b[1;33m\u001b[0m\u001b[1;33m\u001b[0m\u001b[0m\n\u001b[0;32m     11\u001b[0m         \u001b[0moutput\u001b[0m\u001b[1;33m[\u001b[0m\u001b[1;34m'to'\u001b[0m\u001b[1;33m]\u001b[0m\u001b[1;33m.\u001b[0m\u001b[0mappend\u001b[0m\u001b[1;33m(\u001b[0m\u001b[0mto_country\u001b[0m\u001b[1;33m)\u001b[0m\u001b[1;33m\u001b[0m\u001b[1;33m\u001b[0m\u001b[0m\n\u001b[1;32m---> 12\u001b[1;33m         \u001b[0moutput\u001b[0m\u001b[1;33m[\u001b[0m\u001b[1;34m'from'\u001b[0m\u001b[1;33m]\u001b[0m\u001b[1;33m.\u001b[0m\u001b[0mappend\u001b[0m\u001b[1;33m(\u001b[0m\u001b[0mget_country\u001b[0m\u001b[1;33m(\u001b[0m\u001b[0mrec\u001b[0m\u001b[1;33m)\u001b[0m\u001b[1;33m)\u001b[0m\u001b[1;33m\u001b[0m\u001b[1;33m\u001b[0m\u001b[0m\n\u001b[0m\u001b[0;32m     13\u001b[0m         \u001b[0moutput\u001b[0m\u001b[1;33m[\u001b[0m\u001b[1;34m'year'\u001b[0m\u001b[1;33m]\u001b[0m\u001b[1;33m.\u001b[0m\u001b[0mappend\u001b[0m\u001b[1;33m(\u001b[0m\u001b[0myear\u001b[0m\u001b[1;33m)\u001b[0m\u001b[1;33m\u001b[0m\u001b[1;33m\u001b[0m\u001b[0m\n\u001b[0;32m     14\u001b[0m         \u001b[0moutput\u001b[0m\u001b[1;33m[\u001b[0m\u001b[1;34m'decision'\u001b[0m\u001b[1;33m]\u001b[0m\u001b[1;33m.\u001b[0m\u001b[0mappend\u001b[0m\u001b[1;33m(\u001b[0m\u001b[0mdecision_type\u001b[0m\u001b[1;33m)\u001b[0m\u001b[1;33m\u001b[0m\u001b[1;33m\u001b[0m\u001b[0m\n",
      "\u001b[1;32m<ipython-input-68-6dbbf79961f0>\u001b[0m in \u001b[0;36mget_country\u001b[1;34m(rec)\u001b[0m\n\u001b[0;32m      1\u001b[0m \u001b[1;32mdef\u001b[0m \u001b[0mget_country\u001b[0m\u001b[1;33m(\u001b[0m\u001b[0mrec\u001b[0m\u001b[1;33m)\u001b[0m\u001b[1;33m:\u001b[0m\u001b[1;33m\u001b[0m\u001b[1;33m\u001b[0m\u001b[0m\n\u001b[0;32m      2\u001b[0m \u001b[1;33m\u001b[0m\u001b[0m\n\u001b[1;32m----> 3\u001b[1;33m     \u001b[0mrec_after_paran\u001b[0m \u001b[1;33m=\u001b[0m \u001b[0mrec\u001b[0m\u001b[1;33m.\u001b[0m\u001b[0msplit\u001b[0m\u001b[1;33m(\u001b[0m\u001b[1;34m'('\u001b[0m\u001b[1;33m)\u001b[0m\u001b[1;33m[\u001b[0m\u001b[1;33m-\u001b[0m\u001b[1;36m1\u001b[0m\u001b[1;33m]\u001b[0m\u001b[1;33m\u001b[0m\u001b[1;33m\u001b[0m\u001b[0m\n\u001b[0m\u001b[0;32m      4\u001b[0m     \u001b[0mrec_country\u001b[0m \u001b[1;33m=\u001b[0m \u001b[0mrec_after_paran\u001b[0m\u001b[1;33m.\u001b[0m\u001b[0msplit\u001b[0m\u001b[1;33m(\u001b[0m\u001b[1;34m')'\u001b[0m\u001b[1;33m)\u001b[0m\u001b[1;33m[\u001b[0m\u001b[1;36m0\u001b[0m\u001b[1;33m]\u001b[0m\u001b[1;33m\u001b[0m\u001b[1;33m\u001b[0m\u001b[0m\n\u001b[0;32m      5\u001b[0m \u001b[1;33m\u001b[0m\u001b[0m\n",
      "\u001b[1;31mAttributeError\u001b[0m: 'list' object has no attribute 'split'"
     ]
    }
   ],
   "source": [
    "output_recs = []\n",
    "\n",
    "for filename in os.listdir(directory):\n",
    "    \n",
    "    if filename.endswith(\".txt\"):\n",
    "        cur_output_recs = process_document(filename)\n",
    "        output_recs.append(cur_output_recs)\n",
    "\n",
    "output_recs_final = combine_outputs(output_recs)"
   ]
  },
  {
   "cell_type": "code",
   "execution_count": null,
   "metadata": {},
   "outputs": [],
   "source": [
    "# Should be 1709\n",
    "len(output_recs_final['to'])"
   ]
  },
  {
   "cell_type": "markdown",
   "metadata": {},
   "source": [
    "## 6.3 Save to file\n",
    "\n",
    "Now we'll create a `pandas` `DataFrame` around our dataset and write it to a CSV file, and we're done!"
   ]
  },
  {
   "cell_type": "code",
   "execution_count": null,
   "metadata": {},
   "outputs": [],
   "source": [
    "# FILL ME OUT"
   ]
  },
  {
   "cell_type": "code",
   "execution_count": null,
   "metadata": {},
   "outputs": [],
   "source": []
  }
 ],
 "metadata": {
  "anaconda-cloud": {},
  "kernelspec": {
   "display_name": "Python 3",
   "language": "python",
   "name": "python3"
  },
  "language_info": {
   "codemirror_mode": {
    "name": "ipython",
    "version": 3
   },
   "file_extension": ".py",
   "mimetype": "text/x-python",
   "name": "python",
   "nbconvert_exporter": "python",
   "pygments_lexer": "ipython3",
   "version": "3.7.3"
  },
  "toc": {
   "base_numbering": 1,
   "nav_menu": {},
   "number_sections": false,
   "sideBar": true,
   "skip_h1_title": false,
   "title_cell": "Table of Contents",
   "title_sidebar": "Contents",
   "toc_cell": false,
   "toc_position": {},
   "toc_section_display": true,
   "toc_window_display": true
  },
  "varInspector": {
   "cols": {
    "lenName": 16,
    "lenType": 16,
    "lenVar": 40
   },
   "kernels_config": {
    "python": {
     "delete_cmd_postfix": "",
     "delete_cmd_prefix": "del ",
     "library": "var_list.py",
     "varRefreshCmd": "print(var_dic_list())"
    },
    "r": {
     "delete_cmd_postfix": ") ",
     "delete_cmd_prefix": "rm(",
     "library": "var_list.r",
     "varRefreshCmd": "cat(var_dic_list()) "
    }
   },
   "types_to_exclude": [
    "module",
    "function",
    "builtin_function_or_method",
    "instance",
    "_Feature"
   ],
   "window_display": false
  }
 },
 "nbformat": 4,
 "nbformat_minor": 1
}
